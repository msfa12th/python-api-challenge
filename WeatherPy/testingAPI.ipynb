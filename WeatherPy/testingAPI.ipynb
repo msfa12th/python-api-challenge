{
 "cells": [
  {
   "cell_type": "markdown",
   "metadata": {},
   "source": [
    "WeatherPy\n",
    "Note\n",
    "Instructions have been included for each segment. You do not have to follow them exactly, but they are included to help you think through the steps."
   ]
  },
  {
   "cell_type": "code",
   "execution_count": 3,
   "metadata": {},
   "outputs": [],
   "source": [
    "# Dependencies and Setup\n",
    "import matplotlib.pyplot as plt\n",
    "import pandas as pd\n",
    "import numpy as np\n",
    "import requests\n",
    "import time\n",
    "import string\n",
    "from scipy.stats import linregress\n",
    "\n",
    "# Import weather key\n",
    "from config import wkey\n",
    "\n",
    "# Incorporated citipy to determine city based on latitude and longitude\n",
    "from citipy import citipy\n",
    "\n",
    "# Output File (CSV)\n",
    "output_data_file = \"output_data/cities.csv\"\n",
    "\n",
    "# Range of latitudes and longitudes\n",
    "lat_range = (-90, 90)\n",
    "lng_range = (-180, 180)"
   ]
  },
  {
   "cell_type": "markdown",
   "metadata": {},
   "source": [
    "Generate City List"
   ]
  },
  {
   "cell_type": "code",
   "execution_count": 4,
   "metadata": {},
   "outputs": [
    {
     "data": {
      "text/plain": [
       "1500"
      ]
     },
     "execution_count": 4,
     "metadata": {},
     "output_type": "execute_result"
    }
   ],
   "source": [
    "# List for holding lat_lngs and cities\n",
    "lat_lngs = []\n",
    "cities = []\n",
    "\n",
    "# Create a set of random lat and lng combinations\n",
    "lats = np.random.uniform(low=-90.000, high=90.000, size=1500)\n",
    "lngs = np.random.uniform(low=-180.000, high=180.000, size=1500)\n",
    "lat_lngs = zip(lats, lngs)\n",
    "\n",
    "# Identify nearest city for each lat, lng combination\n",
    "for lat_lng in lat_lngs:\n",
    "    city = citipy.nearest_city(lat_lng[0], lat_lng[1]).city_name\n",
    "    \n",
    "    # If the city is unique, then add it to a our cities list\n",
    "    if city not in cities:\n",
    "        cities.append(string.capwords(city))\n",
    "\n",
    "# Print the city count to confirm sufficient count\n",
    "len(cities)"
   ]
  },
  {
   "cell_type": "markdown",
   "metadata": {},
   "source": [
    "API Calls to get weather"
   ]
  },
  {
   "cell_type": "code",
   "execution_count": 6,
   "metadata": {},
   "outputs": [],
   "source": [
    "# Save config information.\n",
    "url = \"http://api.openweathermap.org/data/2.5/weather?\"\n",
    "units = \"metric\"\n",
    "\n",
    "# Build partial query URL\n",
    "query_url = f\"{url}appid={wkey}&units={units}&q=\""
   ]
  },
  {
   "cell_type": "code",
   "execution_count": 10,
   "metadata": {},
   "outputs": [
    {
     "name": "stdout",
     "output_type": "stream",
     "text": [
      "{'coord': {'lon': 2.35, 'lat': 48.86}, 'weather': [{'id': 804, 'main': 'Clouds', 'description': 'overcast clouds', 'icon': '04n'}], 'base': 'stations', 'main': {'temp': 14.06, 'pressure': 1008, 'humidity': 87, 'temp_min': 12.78, 'temp_max': 15}, 'visibility': 10000, 'wind': {'speed': 2.6, 'deg': 240}, 'clouds': {'all': 90}, 'dt': 1569360814, 'sys': {'type': 1, 'id': 6540, 'message': 0.0073, 'country': 'FR', 'sunrise': 1569303559, 'sunset': 1569347174}, 'timezone': 7200, 'id': 2988507, 'name': 'Paris', 'cod': 200}\n",
      "{'coord': {'lon': -0.13, 'lat': 51.51}, 'weather': [{'id': 500, 'main': 'Rain', 'description': 'light rain', 'icon': '10n'}, {'id': 310, 'main': 'Drizzle', 'description': 'light intensity drizzle rain', 'icon': '09n'}], 'base': 'stations', 'main': {'temp': 14.74, 'pressure': 1001, 'humidity': 93, 'temp_min': 13.89, 'temp_max': 15.56}, 'visibility': 10000, 'wind': {'speed': 4.1, 'deg': 220}, 'rain': {'1h': 0.25}, 'clouds': {'all': 87}, 'dt': 1569360726, 'sys': {'type': 1, 'id': 1502, 'message': 0.009, 'country': 'GB', 'sunrise': 1569304147, 'sunset': 1569347776}, 'timezone': 3600, 'id': 2643743, 'name': 'London', 'cod': 200}\n",
      "{'coord': {'lon': 10.74, 'lat': 59.91}, 'weather': [{'id': 803, 'main': 'Clouds', 'description': 'broken clouds', 'icon': '04n'}], 'base': 'stations', 'main': {'temp': 9.25, 'pressure': 1014, 'humidity': 87, 'temp_min': 7.78, 'temp_max': 10.56}, 'visibility': 10000, 'wind': {'speed': 2.1, 'deg': 10}, 'clouds': {'all': 75}, 'dt': 1569360685, 'sys': {'type': 1, 'id': 1624, 'message': 0.0081, 'country': 'NO', 'sunrise': 1569301496, 'sunset': 1569345211}, 'timezone': 7200, 'id': 3143244, 'name': 'Oslo', 'cod': 200}\n",
      "{'coord': {'lon': 116.39, 'lat': 39.91}, 'weather': [{'id': 800, 'main': 'Clear', 'description': 'clear sky', 'icon': '01n'}], 'base': 'stations', 'main': {'temp': 17.11, 'pressure': 1022, 'humidity': 93, 'temp_min': 14, 'temp_max': 20.56}, 'visibility': 10000, 'wind': {'speed': 1, 'deg': 40}, 'clouds': {'all': 0}, 'dt': 1569360908, 'sys': {'type': 1, 'id': 9609, 'message': 0.006, 'country': 'CN', 'sunrise': 1569362646, 'sunset': 1569406119}, 'timezone': 28800, 'id': 1816670, 'name': 'Beijing', 'cod': 200}\n",
      "The latitude information received is: [48.86, 51.51, 59.91, 39.91]\n",
      "The temperature information received is: [14.06, 14.74, 9.25, 17.11]\n",
      "The longitude information received is: [2.35, -0.13, 10.74, 116.39]\n"
     ]
    }
   ],
   "source": [
    "cities = [\"Paris\", \"London\", \"Oslo\", \"Beijing\"]\n",
    "\n",
    "# set up lists to hold reponse info\n",
    "lat = []\n",
    "temp = []\n",
    "lng = []\n",
    "\n",
    "# Loop through the list of cities and perform a request for data on each\n",
    "for city in cities:\n",
    "    response = requests.get(query_url + city).json()\n",
    "    print(response)\n",
    "    lat.append(response['coord']['lat'])\n",
    "    temp.append(response['main']['temp'])\n",
    "    lng.append(response['coord']['lon'])\n",
    "\n",
    "print(f\"The latitude information received is: {lat}\")\n",
    "print(f\"The temperature information received is: {temp}\")\n",
    "print(f\"The longitude information received is: {lng}\")"
   ]
  },
  {
   "cell_type": "code",
   "execution_count": null,
   "metadata": {},
   "outputs": [],
   "source": []
  }
 ],
 "metadata": {
  "kernelspec": {
   "display_name": "Python 3",
   "language": "python",
   "name": "python3"
  },
  "language_info": {
   "codemirror_mode": {
    "name": "ipython",
    "version": 3
   },
   "file_extension": ".py",
   "mimetype": "text/x-python",
   "name": "python",
   "nbconvert_exporter": "python",
   "pygments_lexer": "ipython3",
   "version": "3.6.9"
  }
 },
 "nbformat": 4,
 "nbformat_minor": 2
}
