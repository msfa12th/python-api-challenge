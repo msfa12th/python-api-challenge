{
 "cells": [
  {
   "cell_type": "markdown",
   "metadata": {},
   "source": [
    "# WeatherPy\n",
    "----\n",
    "\n",
    "#### Note\n",
    "* Instructions have been included for each segment. You do not have to follow them exactly, but they are included to help you think through the steps."
   ]
  },
  {
   "cell_type": "code",
   "execution_count": 3,
   "metadata": {
    "scrolled": true
   },
   "outputs": [],
   "source": [
    "# Dependencies and Setup\n",
    "import matplotlib.pyplot as plt\n",
    "import pandas as pd\n",
    "import numpy as np\n",
    "import requests\n",
    "import time\n",
    "import string\n",
    "\n",
    "from scipy.stats import linregress\n",
    "\n",
    "# Import weather key\n",
    "from config import wkey\n",
    "\n",
    "# Incorporated citipy to determine city based on latitude and longitude\n",
    "from citipy import citipy\n",
    "\n",
    "# Output File (CSV)\n",
    "output_city_file = \"output_data/cities.csv\"\n",
    "\n",
    "output_weather_file = \"output_data/city_weather.csv\"\n",
    "\n",
    "# Range of latitudes and longitudes\n",
    "lat_range = (-90, 90)\n",
    "lng_range = (-180, 180)\n"
   ]
  },
  {
   "cell_type": "markdown",
   "metadata": {},
   "source": [
    "## Generate Cities List"
   ]
  },
  {
   "cell_type": "code",
   "execution_count": 4,
   "metadata": {},
   "outputs": [
    {
     "data": {
      "text/plain": [
       "1500"
      ]
     },
     "execution_count": 4,
     "metadata": {},
     "output_type": "execute_result"
    }
   ],
   "source": [
    "# List for holding lat_lngs and cities\n",
    "lat_lngs = []\n",
    "cities = []\n",
    "\n",
    "# Create a set of random lat and lng combinations, use size=500\n",
    "lats = np.random.uniform(low=-90.000, high=90.000, size=1500)\n",
    "lngs = np.random.uniform(low=-180.000, high=180.000, size=1500)\n",
    "lat_lngs = zip(lats, lngs)\n",
    "\n",
    "# Identify nearest city for each lat, lng combination\n",
    "for lat_lng in lat_lngs:\n",
    "    city = citipy.nearest_city(lat_lng[0], lat_lng[1]).city_name\n",
    "    \n",
    "    # If the city is unique, then add it to a our cities list\n",
    "    if city not in cities:\n",
    "        cities.append(string.capwords(city))\n",
    "\n",
    "# Print the city count to confirm sufficient count\n",
    "len(cities)"
   ]
  },
  {
   "cell_type": "code",
   "execution_count": 5,
   "metadata": {},
   "outputs": [
    {
     "data": {
      "text/html": [
       "<div>\n",
       "<style scoped>\n",
       "    .dataframe tbody tr th:only-of-type {\n",
       "        vertical-align: middle;\n",
       "    }\n",
       "\n",
       "    .dataframe tbody tr th {\n",
       "        vertical-align: top;\n",
       "    }\n",
       "\n",
       "    .dataframe thead th {\n",
       "        text-align: right;\n",
       "    }\n",
       "</style>\n",
       "<table border=\"1\" class=\"dataframe\">\n",
       "  <thead>\n",
       "    <tr style=\"text-align: right;\">\n",
       "      <th></th>\n",
       "      <th>city</th>\n",
       "      <th>lat</th>\n",
       "      <th>long</th>\n",
       "    </tr>\n",
       "  </thead>\n",
       "  <tbody>\n",
       "    <tr>\n",
       "      <th>0</th>\n",
       "      <td>Ust-nera</td>\n",
       "      <td>64.278545</td>\n",
       "      <td>141.479164</td>\n",
       "    </tr>\n",
       "    <tr>\n",
       "      <th>1</th>\n",
       "      <td>Riyadh</td>\n",
       "      <td>24.117157</td>\n",
       "      <td>48.526174</td>\n",
       "    </tr>\n",
       "    <tr>\n",
       "      <th>2</th>\n",
       "      <td>Cape Town</td>\n",
       "      <td>-60.272534</td>\n",
       "      <td>-14.072936</td>\n",
       "    </tr>\n",
       "    <tr>\n",
       "      <th>3</th>\n",
       "      <td>Beian</td>\n",
       "      <td>48.635693</td>\n",
       "      <td>126.351849</td>\n",
       "    </tr>\n",
       "    <tr>\n",
       "      <th>4</th>\n",
       "      <td>Mataura</td>\n",
       "      <td>-76.220531</td>\n",
       "      <td>-146.841743</td>\n",
       "    </tr>\n",
       "  </tbody>\n",
       "</table>\n",
       "</div>"
      ],
      "text/plain": [
       "        city        lat        long\n",
       "0   Ust-nera  64.278545  141.479164\n",
       "1     Riyadh  24.117157   48.526174\n",
       "2  Cape Town -60.272534  -14.072936\n",
       "3      Beian  48.635693  126.351849\n",
       "4    Mataura -76.220531 -146.841743"
      ]
     },
     "execution_count": 5,
     "metadata": {},
     "output_type": "execute_result"
    }
   ],
   "source": [
    "#practice creating a dictionary and saving dictionary to csv file\n",
    "city_dict = {\n",
    "    \"city\": cities,\n",
    "    \"lat\": lats,\n",
    "    \"long\": lngs,\n",
    "}\n",
    "city_data = pd.DataFrame(city_dict)\n",
    "\n",
    "\n",
    "export_csv = city_data.to_csv (output_city_file, index = None, header=True)\n",
    "\n",
    "city_data.head()\n"
   ]
  },
  {
   "cell_type": "markdown",
   "metadata": {},
   "source": [
    "### Perform API Calls\n",
    "* Perform a weather check on each city using a series of successive API calls.\n",
    "* Include a print log of each city as it'sbeing processed (with the city number and city name).\n"
   ]
  },
  {
   "cell_type": "code",
   "execution_count": 6,
   "metadata": {},
   "outputs": [
    {
     "name": "stdout",
     "output_type": "stream",
     "text": [
      "{'coord': {'lon': 143.24, 'lat': 64.57}, 'weather': [{'id': 800, 'main': 'Clear', 'description': 'clear sky', 'icon': '01d'}], 'base': 'stations', 'main': {'temp': -3.01, 'pressure': 1015.05, 'humidity': 63, 'temp_min': -3.01, 'temp_max': -3.01, 'sea_level': 1015.05, 'grnd_level': 899.68}, 'wind': {'speed': 2.76, 'deg': 9.144}, 'clouds': {'all': 3}, 'dt': 1569372583, 'sys': {'message': 0.0054, 'country': 'RU', 'sunrise': 1569356171, 'sunset': 1569399709}, 'timezone': 36000, 'id': 2120048, 'name': 'Ust-Nera', 'cod': 200}\n",
      "{'coord': {'lon': 46.72, 'lat': 24.63}, 'weather': [{'id': 800, 'main': 'Clear', 'description': 'clear sky', 'icon': '01n'}], 'base': 'stations', 'main': {'temp': 28, 'pressure': 1011, 'humidity': 28, 'temp_min': 28, 'temp_max': 28}, 'visibility': 10000, 'wind': {'speed': 2.1, 'deg': 280}, 'clouds': {'all': 0}, 'dt': 1569372410, 'sys': {'type': 1, 'id': 7424, 'message': 0.0063, 'country': 'SA', 'sunrise': 1569379355, 'sunset': 1569422842}, 'timezone': 10800, 'id': 108410, 'name': 'Riyadh', 'cod': 200}\n",
      "{'coord': {'lon': 18.42, 'lat': -33.93}, 'weather': [{'id': 800, 'main': 'Clear', 'description': 'clear sky', 'icon': '01n'}], 'base': 'stations', 'main': {'temp': 14.74, 'pressure': 1027, 'humidity': 76, 'temp_min': 13.33, 'temp_max': 16.11}, 'visibility': 10000, 'wind': {'speed': 4.1, 'deg': 220}, 'clouds': {'all': 0}, 'dt': 1569372371, 'sys': {'type': 1, 'id': 1899, 'message': 0.0067, 'country': 'ZA', 'sunrise': 1569385933, 'sunset': 1569429846}, 'timezone': 7200, 'id': 3369157, 'name': 'Cape Town', 'cod': 200}\n",
      "{'coord': {'lon': 9.57, 'lat': 63.66}, 'weather': [{'id': 800, 'main': 'Clear', 'description': 'clear sky', 'icon': '01n'}], 'base': 'stations', 'main': {'temp': 10.3, 'pressure': 1011, 'humidity': 76, 'temp_min': 10, 'temp_max': 10.56}, 'visibility': 10000, 'wind': {'speed': 6.2, 'deg': 120}, 'clouds': {'all': 0}, 'dt': 1569372583, 'sys': {'type': 1, 'id': 1647, 'message': 0.0093, 'country': 'NO', 'sunrise': 1569388317, 'sunset': 1569431708}, 'timezone': 7200, 'id': 3160100, 'name': 'Beian', 'cod': 200}\n",
      "{'coord': {'lon': 168.86, 'lat': -46.19}, 'weather': [{'id': 500, 'main': 'Rain', 'description': 'light rain', 'icon': '10d'}], 'base': 'stations', 'main': {'temp': 5.56, 'pressure': 994, 'humidity': 78, 'temp_min': 5.56, 'temp_max': 5.56}, 'wind': {'speed': 3.13, 'deg': 296, 'gust': 6.26}, 'rain': {'3h': 1.188}, 'clouds': {'all': 100}, 'dt': 1569372316, 'sys': {'type': 3, 'id': 2008959, 'message': 0.0061, 'country': 'NZ', 'sunrise': 1569349765, 'sunset': 1569393820}, 'timezone': 43200, 'id': 6201424, 'name': 'Mataura', 'cod': 200}\n",
      "take a one minute break\n",
      "{'coord': {'lon': -133.03, 'lat': 69.44}, 'weather': [{'id': 801, 'main': 'Clouds', 'description': 'few clouds', 'icon': '02n'}], 'base': 'stations', 'main': {'temp': 5, 'pressure': 1009, 'humidity': 80, 'temp_min': 5, 'temp_max': 5}, 'visibility': 24140, 'wind': {'speed': 1.5, 'deg': 320}, 'clouds': {'all': 20}, 'dt': 1569372654, 'sys': {'type': 1, 'id': 942, 'message': 0.0062, 'country': 'CA', 'sunrise': 1569335999, 'sunset': 1569379701}, 'timezone': -21600, 'id': 6170031, 'name': 'Tuktoyaktuk', 'cod': 200}\n",
      "{'coord': {'lon': -124.16, 'lat': 40.6}, 'weather': [{'id': 800, 'main': 'Clear', 'description': 'clear sky', 'icon': '01n'}], 'base': 'stations', 'main': {'temp': 21.53, 'pressure': 1019, 'humidity': 82, 'temp_min': 18, 'temp_max': 26.11}, 'visibility': 16093, 'wind': {'speed': 6.2, 'deg': 270, 'gust': 8.2}, 'clouds': {'all': 1}, 'dt': 1569372654, 'sys': {'type': 1, 'id': 4127, 'message': 0.0075, 'country': 'US', 'sunrise': 1569333959, 'sunset': 1569377484}, 'timezone': -25200, 'id': 5563839, 'name': 'Fortuna', 'cod': 200}\n",
      "{'coord': {'lon': -114.38, 'lat': 62.45}, 'weather': [{'id': 803, 'main': 'Clouds', 'description': 'broken clouds', 'icon': '04n'}], 'base': 'stations', 'main': {'temp': 6.83, 'pressure': 1005, 'humidity': 65, 'temp_min': 6.67, 'temp_max': 7}, 'visibility': 24140, 'wind': {'speed': 4.6, 'deg': 290}, 'clouds': {'all': 75}, 'dt': 1569372313, 'sys': {'type': 1, 'id': 1007, 'message': 0.0073, 'country': 'CA', 'sunrise': 1569331562, 'sunset': 1569375188}, 'timezone': -21600, 'id': 6185377, 'name': 'Yellowknife', 'cod': 200}\n",
      "{'coord': {'lon': 147.06, 'lat': -42.78}, 'weather': [{'id': 803, 'main': 'Clouds', 'description': 'broken clouds', 'icon': '04d'}], 'base': 'stations', 'main': {'temp': 12.52, 'pressure': 1025, 'humidity': 46, 'temp_min': 11.67, 'temp_max': 13.33}, 'visibility': 10000, 'wind': {'speed': 2.6, 'deg': 40}, 'clouds': {'all': 75}, 'dt': 1569372655, 'sys': {'type': 1, 'id': 9545, 'message': 0.0089, 'country': 'AU', 'sunrise': 1569355023, 'sunset': 1569399024}, 'timezone': 36000, 'id': 2155415, 'name': 'New Norfolk', 'cod': 200}\n",
      "{'coord': {'lon': -73.83, 'lat': -41.87}, 'weather': [{'id': 800, 'main': 'Clear', 'description': 'clear sky', 'icon': '01n'}], 'base': 'stations', 'main': {'temp': 10, 'pressure': 1028, 'humidity': 100, 'temp_min': 10, 'temp_max': 10}, 'visibility': 10000, 'wind': {'speed': 1.5, 'deg': 200}, 'clouds': {'all': 0}, 'dt': 1569372655, 'sys': {'type': 1, 'id': 8512, 'message': 0.0061, 'country': 'CL', 'sunrise': 1569321685, 'sunset': 1569365605}, 'timezone': -10800, 'id': 3899695, 'name': 'Ancud', 'cod': 200}\n",
      "take a one minute break\n",
      "{'coord': {'lon': 30.69, 'lat': 36.9}, 'weather': [{'id': 803, 'main': 'Clouds', 'description': 'broken clouds', 'icon': '04n'}], 'base': 'stations', 'main': {'temp': 22.85, 'pressure': 1010, 'humidity': 78, 'temp_min': 22.78, 'temp_max': 23}, 'visibility': 10000, 'wind': {'speed': 1}, 'clouds': {'all': 75}, 'dt': 1569372723, 'sys': {'type': 1, 'id': 6956, 'message': 0.0067, 'country': 'TR', 'sunrise': 1569383223, 'sunset': 1569426667}, 'timezone': 10800, 'id': 323777, 'name': 'Antalya', 'cod': 200}\n",
      "{'coord': {'lon': 115.35, 'lat': -33.64}, 'weather': [{'id': 803, 'main': 'Clouds', 'description': 'broken clouds', 'icon': '04d'}], 'base': 'stations', 'main': {'temp': 16.26, 'pressure': 1012, 'humidity': 63, 'temp_min': 14.44, 'temp_max': 18.33}, 'wind': {'speed': 6.23, 'deg': 262.532}, 'rain': {'3h': 0.062}, 'clouds': {'all': 62}, 'dt': 1569372383, 'sys': {'type': 3, 'id': 2011706, 'message': 0.0077, 'country': 'AU', 'sunrise': 1569362694, 'sunset': 1569406569}, 'timezone': 28800, 'id': 2075265, 'name': 'Busselton', 'cod': 200}\n",
      "{'coord': {'lon': -70.91, 'lat': -53.16}, 'weather': [{'id': 802, 'main': 'Clouds', 'description': 'scattered clouds', 'icon': '03n'}], 'base': 'stations', 'main': {'temp': 6.83, 'pressure': 1009, 'humidity': 75, 'temp_min': 6.67, 'temp_max': 7}, 'visibility': 10000, 'wind': {'speed': 4.6, 'deg': 290}, 'clouds': {'all': 40}, 'dt': 1569372318, 'sys': {'type': 1, 'id': 8487, 'message': 0.0057, 'country': 'CL', 'sunrise': 1569320875, 'sunset': 1569365014}, 'timezone': -10800, 'id': 3874787, 'name': 'Punta Arenas', 'cod': 200}\n",
      "{'coord': {'lon': -49.67, 'lat': -3.77}, 'weather': [{'id': 500, 'main': 'Rain', 'description': 'light rain', 'icon': '10n'}], 'base': 'stations', 'main': {'temp': 24.19, 'pressure': 1012.43, 'humidity': 86, 'temp_min': 24.19, 'temp_max': 24.19, 'sea_level': 1012.43, 'grnd_level': 999.76}, 'wind': {'speed': 0.77, 'deg': 318.118}, 'rain': {'3h': 1.875}, 'clouds': {'all': 54}, 'dt': 1569372696, 'sys': {'message': 0.0065, 'country': 'BR', 'sunrise': 1569316042, 'sunset': 1569359654}, 'timezone': -10800, 'id': 3385935, 'name': 'Tucurui', 'cod': 200}\n",
      "{'coord': {'lon': -159.78, 'lat': -21.21}, 'weather': [{'id': 802, 'main': 'Clouds', 'description': 'scattered clouds', 'icon': '03n'}], 'base': 'stations', 'main': {'temp': 24, 'pressure': 1019, 'humidity': 60, 'temp_min': 24, 'temp_max': 24}, 'visibility': 10000, 'wind': {'speed': 6.2, 'deg': 90}, 'clouds': {'all': 25}, 'dt': 1569372724, 'sys': {'type': 1, 'id': 7271, 'message': 0.0121, 'country': 'CK', 'sunrise': 1569342406, 'sunset': 1569386131}, 'timezone': -36000, 'id': 4035715, 'name': 'Avarua', 'cod': 200}\n",
      "take a one minute break\n",
      "{'coord': {'lon': 179.32, 'lat': 63.05}, 'weather': [{'id': 802, 'main': 'Clouds', 'description': 'scattered clouds', 'icon': '03n'}], 'base': 'stations', 'main': {'temp': 3.19, 'pressure': 1011.42, 'humidity': 63, 'temp_min': 3.19, 'temp_max': 3.19, 'sea_level': 1011.42, 'grnd_level': 994.75}, 'wind': {'speed': 3.44, 'deg': 309.562}, 'clouds': {'all': 30}, 'dt': 1569372025, 'sys': {'message': 0.0065, 'country': 'RU', 'sunrise': 1569347501, 'sunset': 1569391065}, 'timezone': 43200, 'id': 2126710, 'name': 'Beringovskiy', 'cod': 200}\n",
      "{'coord': {'lon': 22.13, 'lat': -30.97}, 'weather': [{'id': 800, 'main': 'Clear', 'description': 'clear sky', 'icon': '01n'}], 'base': 'stations', 'main': {'temp': 6.79, 'pressure': 1032.88, 'humidity': 83, 'temp_min': 6.79, 'temp_max': 6.79, 'sea_level': 1032.88, 'grnd_level': 882.67}, 'wind': {'speed': 8.7, 'deg': 105.264}, 'clouds': {'all': 0}, 'dt': 1569372792, 'sys': {'message': 0.0061, 'country': 'ZA', 'sunrise': 1569385063, 'sunset': 1569428935}, 'timezone': 7200, 'id': 1014034, 'name': 'Carnarvon', 'cod': 200}\n"
     ]
    },
    {
     "name": "stdout",
     "output_type": "stream",
     "text": [
      "{'coord': {'lon': -51.1, 'lat': 69.22}, 'weather': [{'id': 804, 'main': 'Clouds', 'description': 'overcast clouds', 'icon': '04n'}], 'base': 'stations', 'main': {'temp': 3, 'pressure': 1003, 'humidity': 86, 'temp_min': 3, 'temp_max': 3}, 'wind': {'speed': 6.23, 'deg': 339.021}, 'clouds': {'all': 86}, 'dt': 1569372792, 'sys': {'type': 1, 'id': 165, 'message': 0.0067, 'country': 'GL', 'sunrise': 1569316286, 'sunset': 1569360097}, 'timezone': -7200, 'id': 3423146, 'name': 'Ilulissat', 'cod': 200}\n",
      "{'coord': {'lon': -38.6, 'lat': -3.71}, 'weather': [{'id': 801, 'main': 'Clouds', 'description': 'few clouds', 'icon': '02n'}], 'base': 'stations', 'main': {'temp': 26, 'pressure': 1015, 'humidity': 78, 'temp_min': 26, 'temp_max': 26}, 'visibility': 10000, 'wind': {'speed': 5.1, 'deg': 90}, 'clouds': {'all': 20}, 'dt': 1569372793, 'sys': {'type': 1, 'id': 8363, 'message': 0.0063, 'country': 'BR', 'sunrise': 1569313386, 'sunset': 1569356998}, 'timezone': -10800, 'id': 6320062, 'name': 'Vila Velha', 'cod': 200}\n",
      "{'cod': '404', 'message': 'city not found'}\n",
      "{'coord': {'lon': 115.35, 'lat': -33.64}, 'weather': [{'id': 803, 'main': 'Clouds', 'description': 'broken clouds', 'icon': '04d'}], 'base': 'stations', 'main': {'temp': 16.26, 'pressure': 1012, 'humidity': 63, 'temp_min': 14.44, 'temp_max': 18.33}, 'wind': {'speed': 6.23, 'deg': 262.532}, 'rain': {'3h': 0.062}, 'clouds': {'all': 62}, 'dt': 1569372383, 'sys': {'type': 3, 'id': 2011706, 'message': 0.0077, 'country': 'AU', 'sunrise': 1569362694, 'sunset': 1569406569}, 'timezone': 28800, 'id': 2075265, 'name': 'Busselton', 'cod': 200}\n",
      "take a one minute break\n",
      "{'coord': {'lon': -51.1, 'lat': 69.22}, 'weather': [{'id': 804, 'main': 'Clouds', 'description': 'overcast clouds', 'icon': '04n'}], 'base': 'stations', 'main': {'temp': 3, 'pressure': 1003, 'humidity': 86, 'temp_min': 3, 'temp_max': 3}, 'wind': {'speed': 6.23, 'deg': 339.021}, 'clouds': {'all': 86}, 'dt': 1569372792, 'sys': {'type': 1, 'id': 165, 'message': 0.0067, 'country': 'GL', 'sunrise': 1569316286, 'sunset': 1569360097}, 'timezone': -7200, 'id': 3423146, 'name': 'Ilulissat', 'cod': 200}\n",
      "{'coord': {'lon': 114.09, 'lat': 71.97}, 'weather': [{'id': 804, 'main': 'Clouds', 'description': 'overcast clouds', 'icon': '04d'}], 'base': 'stations', 'main': {'temp': 1.19, 'pressure': 1000.78, 'humidity': 93, 'temp_min': 1.19, 'temp_max': 1.19, 'sea_level': 1000.78, 'grnd_level': 990.94}, 'wind': {'speed': 3.78, 'deg': 157.939}, 'clouds': {'all': 98}, 'dt': 1569372318, 'sys': {'message': 0.0064, 'country': 'RU', 'sunrise': 1569363145, 'sunset': 1569406724}, 'timezone': 32400, 'id': 2017155, 'name': 'Saskylakh', 'cod': 200}\n",
      "{'coord': {'lon': 57.76, 'lat': -20.34}, 'weather': [{'id': 803, 'main': 'Clouds', 'description': 'broken clouds', 'icon': '04n'}], 'base': 'stations', 'main': {'temp': 21.83, 'pressure': 1017, 'humidity': 88, 'temp_min': 21.67, 'temp_max': 22}, 'visibility': 10000, 'wind': {'speed': 5.7, 'deg': 70}, 'clouds': {'all': 75}, 'dt': 1569372860, 'sys': {'type': 1, 'id': 2061, 'message': 0.0065, 'country': 'MU', 'sunrise': 1569376577, 'sunset': 1569420323}, 'timezone': 14400, 'id': 1106677, 'name': 'Bambous Virieux', 'cod': 200}\n",
      "{'coord': {'lon': 20.04, 'lat': -34.53}, 'weather': [{'id': 801, 'main': 'Clouds', 'description': 'few clouds', 'icon': '02n'}], 'base': 'stations', 'main': {'temp': 13.6, 'pressure': 1033, 'humidity': 67, 'temp_min': 13.33, 'temp_max': 14}, 'wind': {'speed': 6.2, 'deg': 130}, 'clouds': {'all': 20}, 'dt': 1569372320, 'sys': {'type': 1, 'id': 1966, 'message': 0.0063, 'country': 'ZA', 'sunrise': 1569385540, 'sunset': 1569429461}, 'timezone': 7200, 'id': 1015776, 'name': 'Bredasdorp', 'cod': 200}\n",
      "{'coord': {'lon': 168.86, 'lat': -46.19}, 'weather': [{'id': 500, 'main': 'Rain', 'description': 'light rain', 'icon': '10d'}], 'base': 'stations', 'main': {'temp': 5.56, 'pressure': 994, 'humidity': 78, 'temp_min': 5.56, 'temp_max': 5.56}, 'wind': {'speed': 3.13, 'deg': 296, 'gust': 6.26}, 'rain': {'3h': 1.188}, 'clouds': {'all': 100}, 'dt': 1569372316, 'sys': {'type': 3, 'id': 2008959, 'message': 0.0061, 'country': 'NZ', 'sunrise': 1569349765, 'sunset': 1569393820}, 'timezone': 43200, 'id': 6201424, 'name': 'Mataura', 'cod': 200}\n",
      "take a one minute break\n",
      "{'coord': {'lon': -70.4, 'lat': -23.65}, 'weather': [{'id': 804, 'main': 'Clouds', 'description': 'overcast clouds', 'icon': '04n'}], 'base': 'stations', 'main': {'temp': 14, 'pressure': 1017, 'humidity': 82, 'temp_min': 14, 'temp_max': 14}, 'visibility': 10000, 'wind': {'speed': 4.6, 'deg': 190}, 'clouds': {'all': 90}, 'dt': 1569372926, 'sys': {'type': 1, 'id': 8488, 'message': 0.0098, 'country': 'CL', 'sunrise': 1569320960, 'sunset': 1569364685}, 'timezone': -10800, 'id': 3899539, 'name': 'Antofagasta', 'cod': 200}\n",
      "{'coord': {'lon': -133.03, 'lat': 69.44}, 'weather': [{'id': 801, 'main': 'Clouds', 'description': 'few clouds', 'icon': '02n'}], 'base': 'stations', 'main': {'temp': 5, 'pressure': 1009, 'humidity': 80, 'temp_min': 5, 'temp_max': 5}, 'visibility': 24140, 'wind': {'speed': 1.5, 'deg': 320}, 'clouds': {'all': 20}, 'dt': 1569372654, 'sys': {'type': 1, 'id': 942, 'message': 0.0062, 'country': 'CA', 'sunrise': 1569335999, 'sunset': 1569379701}, 'timezone': -21600, 'id': 6170031, 'name': 'Tuktoyaktuk', 'cod': 200}\n",
      "{'coord': {'lon': -159.32, 'lat': 22.08}, 'weather': [{'id': 500, 'main': 'Rain', 'description': 'light rain', 'icon': '10n'}], 'base': 'stations', 'main': {'temp': 28.16, 'pressure': 1012, 'humidity': 78, 'temp_min': 27, 'temp_max': 30}, 'visibility': 16093, 'wind': {'speed': 2.1, 'deg': 50}, 'rain': {'1h': 0.25}, 'clouds': {'all': 90}, 'dt': 1569372927, 'sys': {'type': 1, 'id': 7865, 'message': 0.0075, 'country': 'US', 'sunrise': 1569342394, 'sunset': 1569385922}, 'timezone': -36000, 'id': 5848280, 'name': 'Kapaa', 'cod': 200}\n",
      "{'coord': {'lon': -111.86, 'lat': 48.51}, 'weather': [{'id': 800, 'main': 'Clear', 'description': 'clear sky', 'icon': '01n'}], 'base': 'stations', 'main': {'temp': 15.95, 'pressure': 1013, 'humidity': 26, 'temp_min': 15, 'temp_max': 17.22}, 'visibility': 16093, 'wind': {'speed': 10.3, 'deg': 280, 'gust': 15.9}, 'clouds': {'all': 1}, 'dt': 1569372927, 'sys': {'type': 1, 'id': 3714, 'message': 0.0077, 'country': 'US', 'sunrise': 1569330997, 'sunset': 1569374543}, 'timezone': -21600, 'id': 5677433, 'name': 'Shelby', 'cod': 200}\n",
      "{'coord': {'lon': -51.1, 'lat': 69.22}, 'weather': [{'id': 804, 'main': 'Clouds', 'description': 'overcast clouds', 'icon': '04n'}], 'base': 'stations', 'main': {'temp': 3, 'pressure': 1003, 'humidity': 86, 'temp_min': 3, 'temp_max': 3}, 'wind': {'speed': 6.23, 'deg': 339.021}, 'clouds': {'all': 86}, 'dt': 1569372792, 'sys': {'type': 1, 'id': 165, 'message': 0.0067, 'country': 'GL', 'sunrise': 1569316286, 'sunset': 1569360097}, 'timezone': -7200, 'id': 3423146, 'name': 'Ilulissat', 'cod': 200}\n",
      "take a one minute break\n",
      "{'coord': {'lon': 147.95, 'lat': 62.72}, 'weather': [{'id': 804, 'main': 'Clouds', 'description': 'overcast clouds', 'icon': '04d'}], 'base': 'stations', 'main': {'temp': -4.81, 'pressure': 1014.36, 'humidity': 50, 'temp_min': -4.81, 'temp_max': -4.81, 'sea_level': 1014.36, 'grnd_level': 890.11}, 'wind': {'speed': 3, 'deg': 58.444}, 'clouds': {'all': 100}, 'dt': 1569372992, 'sys': {'message': 0.0059, 'country': 'RU', 'sunrise': 1569355045, 'sunset': 1569398575}, 'timezone': 39600, 'id': 2124611, 'name': 'Kholodnyy', 'cod': 200}\n",
      "{'coord': {'lon': -122.43, 'lat': 37.46}, 'weather': [{'id': 800, 'main': 'Clear', 'description': 'clear sky', 'icon': '01n'}], 'base': 'stations', 'main': {'temp': 30.84, 'pressure': 1012, 'humidity': 17, 'temp_min': 26.11, 'temp_max': 33}, 'visibility': 16093, 'wind': {'speed': 8.7, 'deg': 280}, 'clouds': {'all': 1}, 'dt': 1569372992, 'sys': {'type': 1, 'id': 5817, 'message': 0.0118, 'country': 'US', 'sunrise': 1569333544, 'sunset': 1569377069}, 'timezone': -25200, 'id': 5354943, 'name': 'Half Moon Bay', 'cod': 200}\n",
      "{'coord': {'lon': -155.08, 'lat': 19.71}, 'weather': [{'id': 803, 'main': 'Clouds', 'description': 'broken clouds', 'icon': '04n'}], 'base': 'stations', 'main': {'temp': 24.88, 'pressure': 1014, 'humidity': 55, 'temp_min': 17.22, 'temp_max': 30}, 'visibility': 16093, 'wind': {'speed': 5.1, 'deg': 80}, 'clouds': {'all': 75}, 'dt': 1569372732, 'sys': {'type': 1, 'id': 7881, 'message': 0.0072, 'country': 'US', 'sunrise': 1569341373, 'sunset': 1569384908}, 'timezone': -36000, 'id': 5855927, 'name': 'Hilo', 'cod': 200}\n",
      "{'coord': {'lon': 26.89, 'lat': -33.59}, 'weather': [{'id': 803, 'main': 'Clouds', 'description': 'broken clouds', 'icon': '04n'}], 'base': 'stations', 'main': {'temp': 12.22, 'pressure': 1036, 'humidity': 73, 'temp_min': 12.22, 'temp_max': 12.22}, 'wind': {'speed': 1.34, 'deg': 6, 'gust': 1.79}, 'clouds': {'all': 61}, 'dt': 1569372993, 'sys': {'type': 3, 'id': 2011314, 'message': 0.0078, 'country': 'ZA', 'sunrise': 1569383904, 'sunset': 1569427809}, 'timezone': 7200, 'id': 964432, 'name': 'Port Alfred', 'cod': 200}\n"
     ]
    },
    {
     "name": "stdout",
     "output_type": "stream",
     "text": [
      "{'coord': {'lon': 173.78, 'lat': -35.1}, 'weather': [{'id': 500, 'main': 'Rain', 'description': 'light rain', 'icon': '10d'}], 'base': 'stations', 'main': {'temp': 14.89, 'pressure': 1013.04, 'humidity': 64, 'temp_min': 14.89, 'temp_max': 14.89, 'sea_level': 1013.04, 'grnd_level': 1005.86}, 'wind': {'speed': 7.68, 'deg': 262.903}, 'rain': {'3h': 0.25}, 'clouds': {'all': 3}, 'dt': 1569372656, 'sys': {'message': 0.0076, 'country': 'NZ', 'sunrise': 1569348675, 'sunset': 1569392549}, 'timezone': 43200, 'id': 2189343, 'name': 'Kaeo', 'cod': 200}\n",
      "take a one minute break\n",
      "{'cod': '404', 'message': 'city not found'}\n",
      "{'coord': {'lon': -68.31, 'lat': -54.81}, 'weather': [{'id': 803, 'main': 'Clouds', 'description': 'broken clouds', 'icon': '04n'}], 'base': 'stations', 'main': {'temp': 7, 'pressure': 1004, 'humidity': 70, 'temp_min': 7, 'temp_max': 7}, 'visibility': 10000, 'wind': {'speed': 2.1, 'deg': 360}, 'clouds': {'all': 75}, 'dt': 1569372930, 'sys': {'type': 1, 'id': 8303, 'message': 0.0073, 'country': 'AR', 'sunrise': 1569320231, 'sunset': 1569364411}, 'timezone': -10800, 'id': 3833367, 'name': 'Ushuaia', 'cod': 200}\n",
      "{'coord': {'lon': -94.76, 'lat': 39.95}, 'weather': [{'id': 802, 'main': 'Clouds', 'description': 'scattered clouds', 'icon': '03n'}], 'base': 'stations', 'main': {'temp': 23.1, 'pressure': 1008, 'humidity': 83, 'temp_min': 22, 'temp_max': 24}, 'visibility': 16093, 'wind': {'speed': 4.6, 'deg': 160}, 'clouds': {'all': 40}, 'dt': 1569373060, 'sys': {'type': 1, 'id': 4042, 'message': 0.0074, 'country': 'US', 'sunrise': 1569326898, 'sunset': 1569370436}, 'timezone': -18000, 'id': 4407665, 'name': 'Kodiak', 'cod': 200}\n",
      "{'coord': {'lon': -70.67, 'lat': 46.12}, 'weather': [{'id': 500, 'main': 'Rain', 'description': 'light rain', 'icon': '10n'}], 'base': 'stations', 'main': {'temp': 10, 'pressure': 1006, 'humidity': 100, 'temp_min': 7.22, 'temp_max': 12.22}, 'wind': {'speed': 4.68, 'deg': 26.099}, 'rain': {'3h': 0.187}, 'clouds': {'all': 100}, 'dt': 1569373061, 'sys': {'type': 3, 'id': 2005187, 'message': 0.0082, 'country': 'CA', 'sunrise': 1569321106, 'sunset': 1569364668}, 'timezone': -14400, 'id': 6295855, 'name': 'Saint-Georges', 'cod': 200}\n",
      "{'coord': {'lon': 138.6, 'lat': -33.21}, 'weather': [{'id': 800, 'main': 'Clear', 'description': 'clear sky', 'icon': '01d'}], 'base': 'stations', 'main': {'temp': 15.39, 'pressure': 1029.59, 'humidity': 53, 'temp_min': 15.39, 'temp_max': 15.39, 'sea_level': 1029.59, 'grnd_level': 991.86}, 'wind': {'speed': 4.73, 'deg': 39.655}, 'clouds': {'all': 0}, 'dt': 1569372994, 'sys': {'message': 0.0055, 'country': 'AU', 'sunrise': 1569357122, 'sunset': 1569400984}, 'timezone': 34200, 'id': 2069194, 'name': 'Jamestown', 'cod': 200}\n",
      "{'coord': {'lon': 74.49, 'lat': 15.34}, 'weather': [{'id': 803, 'main': 'Clouds', 'description': 'broken clouds', 'icon': '04d'}], 'base': 'stations', 'main': {'temp': 22, 'pressure': 1012, 'humidity': 94, 'temp_min': 22, 'temp_max': 22}, 'visibility': 6000, 'wind': {'speed': 1, 'deg': 270}, 'clouds': {'all': 75}, 'dt': 1569373061, 'sys': {'type': 1, 'id': 9229, 'message': 0.0058, 'country': 'IN', 'sunrise': 1569372672, 'sunset': 1569416199}, 'timezone': 19800, 'id': 1273574, 'name': 'Vaini', 'cod': 200}\n",
      "take a one minute break\n",
      "{'coord': {'lon': -114.38, 'lat': 62.45}, 'weather': [{'id': 803, 'main': 'Clouds', 'description': 'broken clouds', 'icon': '04n'}], 'base': 'stations', 'main': {'temp': 6.84, 'pressure': 1005, 'humidity': 65, 'temp_min': 6.67, 'temp_max': 7}, 'visibility': 24140, 'wind': {'speed': 4.6, 'deg': 290}, 'clouds': {'all': 75}, 'dt': 1569373128, 'sys': {'type': 1, 'id': 1007, 'message': 0.0082, 'country': 'CA', 'sunrise': 1569331562, 'sunset': 1569375188}, 'timezone': -21600, 'id': 6185377, 'name': 'Yellowknife', 'cod': 200}\n",
      "{'coord': {'lon': 172.79, 'lat': 3.07}, 'weather': [{'id': 500, 'main': 'Rain', 'description': 'light rain', 'icon': '10d'}], 'base': 'stations', 'main': {'temp': 29.09, 'pressure': 1011.82, 'humidity': 75, 'temp_min': 29.09, 'temp_max': 29.09, 'sea_level': 1011.82, 'grnd_level': 1011.94}, 'wind': {'speed': 5.69, 'deg': 140.5}, 'rain': {'3h': 0.374}, 'clouds': {'all': 25}, 'dt': 1569372726, 'sys': {'message': 0.0082, 'country': 'KI', 'sunrise': 1569349057, 'sunset': 1569392642}, 'timezone': 43200, 'id': 2110227, 'name': 'Butaritari', 'cod': 200}\n",
      "{'coord': {'lon': 147.06, 'lat': -42.78}, 'weather': [{'id': 803, 'main': 'Clouds', 'description': 'broken clouds', 'icon': '04d'}], 'base': 'stations', 'main': {'temp': 12.74, 'pressure': 1025, 'humidity': 46, 'temp_min': 12, 'temp_max': 13.33}, 'visibility': 10000, 'wind': {'speed': 2.6, 'deg': 40}, 'clouds': {'all': 75}, 'dt': 1569373129, 'sys': {'type': 1, 'id': 9545, 'message': 0.0066, 'country': 'AU', 'sunrise': 1569355023, 'sunset': 1569399024}, 'timezone': 36000, 'id': 2155415, 'name': 'New Norfolk', 'cod': 200}\n",
      "{'coord': {'lon': -68.31, 'lat': -54.81}, 'weather': [{'id': 803, 'main': 'Clouds', 'description': 'broken clouds', 'icon': '04n'}], 'base': 'stations', 'main': {'temp': 7, 'pressure': 1004, 'humidity': 70, 'temp_min': 7, 'temp_max': 7}, 'visibility': 10000, 'wind': {'speed': 2.1, 'deg': 360}, 'clouds': {'all': 75}, 'dt': 1569372516, 'sys': {'type': 1, 'id': 8303, 'message': 0.0065, 'country': 'AR', 'sunrise': 1569320231, 'sunset': 1569364411}, 'timezone': -10800, 'id': 3833367, 'name': 'Ushuaia', 'cod': 200}\n",
      "{'coord': {'lon': -65.11, 'lat': -43.3}, 'weather': [{'id': 801, 'main': 'Clouds', 'description': 'few clouds', 'icon': '02n'}], 'base': 'stations', 'main': {'temp': 15.79, 'pressure': 1019.83, 'humidity': 49, 'temp_min': 15.79, 'temp_max': 15.79, 'sea_level': 1019.83, 'grnd_level': 994.96}, 'wind': {'speed': 3.78, 'deg': 27.074}, 'clouds': {'all': 23}, 'dt': 1569373129, 'sys': {'message': 0.007, 'country': 'AR', 'sunrise': 1569319584, 'sunset': 1569363522}, 'timezone': -10800, 'id': 3839307, 'name': 'Rawson', 'cod': 200}\n",
      "take a one minute break\n",
      "{'coord': {'lon': 30.79, 'lat': 59.7}, 'weather': [{'id': 800, 'main': 'Clear', 'description': 'clear sky', 'icon': '01n'}], 'base': 'stations', 'main': {'temp': 1.73, 'pressure': 1017, 'humidity': 94, 'temp_min': -1.11, 'temp_max': 5}, 'visibility': 10000, 'wind': {'speed': 1}, 'clouds': {'all': 0}, 'dt': 1569373267, 'sys': {'type': 1, 'id': 8926, 'message': 0.0061, 'country': 'RU', 'sunrise': 1569383216, 'sunset': 1569426626}, 'timezone': 10800, 'id': 546105, 'name': 'Nikolskoye', 'cod': 200}\n",
      "{'coord': {'lon': -134.97, 'lat': -23.12}, 'weather': [{'id': 803, 'main': 'Clouds', 'description': 'broken clouds', 'icon': '04n'}], 'base': 'stations', 'main': {'temp': 21.69, 'pressure': 1019.75, 'humidity': 65, 'temp_min': 21.69, 'temp_max': 21.69, 'sea_level': 1019.75, 'grnd_level': 1019.6}, 'wind': {'speed': 1.97, 'deg': 26.11}, 'clouds': {'all': 76}, 'dt': 1569372928, 'sys': {'message': 0.0062, 'country': 'PF', 'sunrise': 1569336448, 'sunset': 1569380183}, 'timezone': -32400, 'id': 4030556, 'name': 'Rikitea', 'cod': 200}\n",
      "{'coord': {'lon': -68.31, 'lat': -54.81}, 'weather': [{'id': 803, 'main': 'Clouds', 'description': 'broken clouds', 'icon': '04n'}], 'base': 'stations', 'main': {'temp': 7, 'pressure': 1004, 'humidity': 70, 'temp_min': 7, 'temp_max': 7}, 'visibility': 10000, 'wind': {'speed': 2.1, 'deg': 360}, 'clouds': {'all': 75}, 'dt': 1569372930, 'sys': {'type': 1, 'id': 8303, 'message': 0.0073, 'country': 'AR', 'sunrise': 1569320231, 'sunset': 1569364411}, 'timezone': -10800, 'id': 3833367, 'name': 'Ushuaia', 'cod': 200}\n",
      "{'coord': {'lon': 176.84, 'lat': -39.64}, 'weather': [{'id': 800, 'main': 'Clear', 'description': 'clear sky', 'icon': '01d'}], 'base': 'stations', 'main': {'temp': 12.89, 'pressure': 998.46, 'humidity': 54, 'temp_min': 12.89, 'temp_max': 12.89, 'sea_level': 998.46, 'grnd_level': 975.34}, 'wind': {'speed': 8.38, 'deg': 268.777}, 'clouds': {'all': 3}, 'dt': 1569373268, 'sys': {'message': 0.0075, 'country': 'NZ', 'sunrise': 1569347910, 'sunset': 1569391846}, 'timezone': 43200, 'id': 2190224, 'name': 'Hastings', 'cod': 200}\n",
      "{'coord': {'lon': -134.97, 'lat': -23.12}, 'weather': [{'id': 803, 'main': 'Clouds', 'description': 'broken clouds', 'icon': '04n'}], 'base': 'stations', 'main': {'temp': 21.69, 'pressure': 1019.75, 'humidity': 65, 'temp_min': 21.69, 'temp_max': 21.69, 'sea_level': 1019.75, 'grnd_level': 1019.6}, 'wind': {'speed': 1.97, 'deg': 26.11}, 'clouds': {'all': 76}, 'dt': 1569372928, 'sys': {'message': 0.0062, 'country': 'PF', 'sunrise': 1569336448, 'sunset': 1569380183}, 'timezone': -32400, 'id': 4030556, 'name': 'Rikitea', 'cod': 200}\n"
     ]
    },
    {
     "name": "stdout",
     "output_type": "stream",
     "text": [
      "take a one minute break\n",
      "{'coord': {'lon': -133.03, 'lat': 69.44}, 'weather': [{'id': 801, 'main': 'Clouds', 'description': 'few clouds', 'icon': '02n'}], 'base': 'stations', 'main': {'temp': 5, 'pressure': 1009, 'humidity': 80, 'temp_min': 5, 'temp_max': 5}, 'visibility': 24140, 'wind': {'speed': 1.5, 'deg': 320}, 'clouds': {'all': 20}, 'dt': 1569373333, 'sys': {'type': 1, 'id': 942, 'message': 0.0074, 'country': 'CA', 'sunrise': 1569335999, 'sunset': 1569379701}, 'timezone': -21600, 'id': 6170031, 'name': 'Tuktoyaktuk', 'cod': 200}\n",
      "{'coord': {'lon': 74.49, 'lat': 15.34}, 'weather': [{'id': 803, 'main': 'Clouds', 'description': 'broken clouds', 'icon': '04d'}], 'base': 'stations', 'main': {'temp': 22, 'pressure': 1012, 'humidity': 94, 'temp_min': 22, 'temp_max': 22}, 'visibility': 6000, 'wind': {'speed': 1, 'deg': 270}, 'clouds': {'all': 75}, 'dt': 1569373061, 'sys': {'type': 1, 'id': 9229, 'message': 0.0058, 'country': 'IN', 'sunrise': 1569372672, 'sunset': 1569416199}, 'timezone': 19800, 'id': 1273574, 'name': 'Vaini', 'cod': 200}\n",
      "{'coord': {'lon': 115.24, 'lat': 5.28}, 'weather': [{'id': 803, 'main': 'Clouds', 'description': 'broken clouds', 'icon': '04d'}], 'base': 'stations', 'main': {'temp': 30.04, 'pressure': 1011, 'humidity': 55, 'temp_min': 28.89, 'temp_max': 31}, 'visibility': 10000, 'wind': {'speed': 4.6, 'deg': 70}, 'clouds': {'all': 75}, 'dt': 1569373066, 'sys': {'type': 1, 'id': 9372, 'message': 0.0066, 'country': 'BN', 'sunrise': 1569362872, 'sunset': 1569406445}, 'timezone': 28800, 'id': 1733782, 'name': 'Victoria', 'cod': 200}\n",
      "{'coord': {'lon': -86.61, 'lat': 30.44}, 'weather': [{'id': 801, 'main': 'Clouds', 'description': 'few clouds', 'icon': '02n'}], 'base': 'stations', 'main': {'temp': 28.49, 'pressure': 1011, 'humidity': 66, 'temp_min': 27.22, 'temp_max': 30}, 'visibility': 16093, 'wind': {'speed': 4.6, 'deg': 270}, 'clouds': {'all': 20}, 'dt': 1569373204, 'sys': {'type': 1, 'id': 4421, 'message': 0.0116, 'country': 'US', 'sunrise': 1569324943, 'sunset': 1569368480}, 'timezone': -18000, 'id': 4166723, 'name': 'Ocean City', 'cod': 200}\n",
      "{'coord': {'lon': 115.35, 'lat': -33.64}, 'weather': [{'id': 803, 'main': 'Clouds', 'description': 'broken clouds', 'icon': '04d'}], 'base': 'stations', 'main': {'temp': 16.59, 'pressure': 1012, 'humidity': 61, 'temp_min': 14.44, 'temp_max': 18.33}, 'wind': {'speed': 6.23, 'deg': 262.532}, 'rain': {'3h': 0.062}, 'clouds': {'all': 62}, 'dt': 1569373062, 'sys': {'type': 3, 'id': 2011706, 'message': 0.0062, 'country': 'AU', 'sunrise': 1569362694, 'sunset': 1569406569}, 'timezone': 28800, 'id': 2075265, 'name': 'Busselton', 'cod': 200}\n",
      "take a one minute break\n",
      "{'coord': {'lon': 57.76, 'lat': -20.34}, 'weather': [{'id': 803, 'main': 'Clouds', 'description': 'broken clouds', 'icon': '04n'}], 'base': 'stations', 'main': {'temp': 21.83, 'pressure': 1017, 'humidity': 88, 'temp_min': 21.67, 'temp_max': 22}, 'visibility': 10000, 'wind': {'speed': 5.7, 'deg': 70}, 'clouds': {'all': 75}, 'dt': 1569372860, 'sys': {'type': 1, 'id': 2061, 'message': 0.0065, 'country': 'MU', 'sunrise': 1569376577, 'sunset': 1569420323}, 'timezone': 14400, 'id': 1106677, 'name': 'Bambous Virieux', 'cod': 200}\n",
      "{'coord': {'lon': 110.1, 'lat': 55.93}, 'weather': [{'id': 800, 'main': 'Clear', 'description': 'clear sky', 'icon': '01d'}], 'base': 'stations', 'main': {'temp': 7.99, 'pressure': 1018.53, 'humidity': 78, 'temp_min': 7.99, 'temp_max': 7.99, 'sea_level': 1018.53, 'grnd_level': 908.35}, 'wind': {'speed': 0.68, 'deg': 8.309}, 'clouds': {'all': 0}, 'dt': 1569373399, 'sys': {'message': 0.0072, 'country': 'RU', 'sunrise': 1569364156, 'sunset': 1569407627}, 'timezone': 28800, 'id': 2022129, 'name': 'Kichera', 'cod': 200}\n",
      "{'coord': {'lon': -68.31, 'lat': -54.81}, 'weather': [{'id': 803, 'main': 'Clouds', 'description': 'broken clouds', 'icon': '04n'}], 'base': 'stations', 'main': {'temp': 7, 'pressure': 1004, 'humidity': 70, 'temp_min': 7, 'temp_max': 7}, 'visibility': 10000, 'wind': {'speed': 2.1, 'deg': 360}, 'clouds': {'all': 75}, 'dt': 1569372930, 'sys': {'type': 1, 'id': 8303, 'message': 0.0073, 'country': 'AR', 'sunrise': 1569320231, 'sunset': 1569364411}, 'timezone': -10800, 'id': 3833367, 'name': 'Ushuaia', 'cod': 200}\n",
      "{'coord': {'lon': 156.12, 'lat': 50.68}, 'weather': [{'id': 500, 'main': 'Rain', 'description': 'light rain', 'icon': '10d'}], 'base': 'stations', 'main': {'temp': 9.59, 'pressure': 994.1, 'humidity': 79, 'temp_min': 9.59, 'temp_max': 9.59, 'sea_level': 994.1, 'grnd_level': 994.08}, 'wind': {'speed': 11.1, 'deg': 258.991}, 'rain': {'3h': 0.188}, 'clouds': {'all': 61}, 'dt': 1569373400, 'sys': {'message': 0.0063, 'country': 'RU', 'sunrise': 1569353102, 'sunset': 1569396597}, 'timezone': 39600, 'id': 2121385, 'name': 'Severo-Kurilsk', 'cod': 200}\n",
      "{'coord': {'lon': -73.83, 'lat': -41.87}, 'weather': [{'id': 800, 'main': 'Clear', 'description': 'clear sky', 'icon': '01n'}], 'base': 'stations', 'main': {'temp': 10, 'pressure': 1028, 'humidity': 100, 'temp_min': 10, 'temp_max': 10}, 'visibility': 10000, 'wind': {'speed': 1.5, 'deg': 200}, 'clouds': {'all': 0}, 'dt': 1569373218, 'sys': {'type': 1, 'id': 8512, 'message': 0.0061, 'country': 'CL', 'sunrise': 1569321685, 'sunset': 1569365605}, 'timezone': -10800, 'id': 3899695, 'name': 'Ancud', 'cod': 200}\n",
      "take a one minute break\n",
      "{'coord': {'lon': 169.85, 'lat': -46.28}, 'weather': [{'id': 500, 'main': 'Rain', 'description': 'light rain', 'icon': '10d'}], 'base': 'stations', 'main': {'temp': 6.11, 'pressure': 990, 'humidity': 69, 'temp_min': 6.11, 'temp_max': 6.11}, 'wind': {'speed': 4.02, 'deg': 180, 'gust': 9.39}, 'rain': {'3h': 0.438}, 'clouds': {'all': 95}, 'dt': 1569373469, 'sys': {'type': 3, 'id': 2000217, 'message': 0.0068, 'country': 'NZ', 'sunrise': 1569349527, 'sunset': 1569393583}, 'timezone': 43200, 'id': 2208248, 'name': 'Kaitangata', 'cod': 200}\n",
      "{'cod': '404', 'message': 'city not found'}\n",
      "{'coord': {'lon': 138.6, 'lat': -33.21}, 'weather': [{'id': 800, 'main': 'Clear', 'description': 'clear sky', 'icon': '01d'}], 'base': 'stations', 'main': {'temp': 15.39, 'pressure': 1029.59, 'humidity': 53, 'temp_min': 15.39, 'temp_max': 15.39, 'sea_level': 1029.59, 'grnd_level': 991.86}, 'wind': {'speed': 4.73, 'deg': 39.655}, 'clouds': {'all': 0}, 'dt': 1569372994, 'sys': {'message': 0.0055, 'country': 'AU', 'sunrise': 1569357122, 'sunset': 1569400984}, 'timezone': 34200, 'id': 2069194, 'name': 'Jamestown', 'cod': 200}\n",
      "{'coord': {'lon': -78.15, 'lat': -10.07}, 'weather': [{'id': 802, 'main': 'Clouds', 'description': 'scattered clouds', 'icon': '03n'}], 'base': 'stations', 'main': {'temp': 16.59, 'pressure': 1017.18, 'humidity': 93, 'temp_min': 16.59, 'temp_max': 16.59, 'sea_level': 1017.18, 'grnd_level': 1015.81}, 'wind': {'speed': 6.11, 'deg': 158.997}, 'clouds': {'all': 49}, 'dt': 1569372928, 'sys': {'message': 0.0058, 'country': 'PE', 'sunrise': 1569322861, 'sunset': 1569366503}, 'timezone': -18000, 'id': 3939168, 'name': 'Huarmey', 'cod': 200}\n",
      "{'cod': '404', 'message': 'city not found'}\n",
      "{'cod': '404', 'message': 'city not found'}\n",
      "{'coord': {'lon': 86.18, 'lat': 69.41}, 'weather': [{'id': 803, 'main': 'Clouds', 'description': 'broken clouds', 'icon': '04d'}], 'base': 'stations', 'main': {'temp': 1, 'pressure': 989, 'humidity': 96, 'temp_min': 1, 'temp_max': 1}, 'visibility': 8000, 'wind': {'speed': 7, 'deg': 190}, 'clouds': {'all': 75}, 'dt': 1569373469, 'sys': {'type': 1, 'id': 8951, 'message': 0.0062, 'country': 'RU', 'sunrise': 1569369877, 'sunset': 1569413384}, 'timezone': 25200, 'id': 1507116, 'name': 'Dudinka', 'cod': 200}\n",
      "{'coord': {'lon': 168.86, 'lat': -46.19}, 'weather': [{'id': 500, 'main': 'Rain', 'description': 'light rain', 'icon': '10d'}], 'base': 'stations', 'main': {'temp': 5.56, 'pressure': 994, 'humidity': 79, 'temp_min': 5.56, 'temp_max': 5.56}, 'wind': {'speed': 2.24, 'deg': 304, 'gust': 5.36}, 'rain': {'3h': 1.188}, 'clouds': {'all': 100}, 'dt': 1569372930, 'sys': {'type': 3, 'id': 2008959, 'message': 0.0061, 'country': 'NZ', 'sunrise': 1569349765, 'sunset': 1569393820}, 'timezone': 43200, 'id': 6201424, 'name': 'Mataura', 'cod': 200}\n",
      "take a one minute break\n",
      "{'coord': {'lon': -134.97, 'lat': -23.12}, 'weather': [{'id': 803, 'main': 'Clouds', 'description': 'broken clouds', 'icon': '04n'}], 'base': 'stations', 'main': {'temp': 21.69, 'pressure': 1019.75, 'humidity': 65, 'temp_min': 21.69, 'temp_max': 21.69, 'sea_level': 1019.75, 'grnd_level': 1019.6}, 'wind': {'speed': 1.97, 'deg': 26.11}, 'clouds': {'all': 76}, 'dt': 1569373535, 'sys': {'message': 0.0057, 'country': 'PF', 'sunrise': 1569336448, 'sunset': 1569380183}, 'timezone': -32400, 'id': 4030556, 'name': 'Rikitea', 'cod': 200}\n",
      "{'coord': {'lon': 44.38, 'lat': 14.3}, 'weather': [{'id': 802, 'main': 'Clouds', 'description': 'scattered clouds', 'icon': '03n'}], 'base': 'stations', 'main': {'temp': 20.99, 'pressure': 1009.44, 'humidity': 65, 'temp_min': 20.99, 'temp_max': 20.99, 'sea_level': 1009.44, 'grnd_level': 829.5}, 'wind': {'speed': 0.99, 'deg': 69.282}, 'clouds': {'all': 34}, 'dt': 1569373535, 'sys': {'message': 0.006, 'country': 'YE', 'sunrise': 1569379897, 'sunset': 1569423424}, 'timezone': 10800, 'id': 69559, 'name': 'Yarim', 'cod': 200}\n",
      "{'coord': {'lon': -28.7, 'lat': 38.52}, 'weather': [{'id': 800, 'main': 'Clear', 'description': 'clear sky', 'icon': '01n'}], 'base': 'stations', 'main': {'temp': 21.39, 'pressure': 1027.03, 'humidity': 66, 'temp_min': 21.39, 'temp_max': 21.39, 'sea_level': 1027.03, 'grnd_level': 1027.09}, 'wind': {'speed': 4.76, 'deg': 288.629}, 'clouds': {'all': 0}, 'dt': 1569373401, 'sys': {'message': 0.0073, 'country': 'PT', 'sunrise': 1569397488, 'sunset': 1569440903}, 'timezone': 0, 'id': 3372707, 'name': 'Ribeira Grande', 'cod': 200}\n"
     ]
    },
    {
     "name": "stdout",
     "output_type": "stream",
     "text": [
      "{'coord': {'lon': -90.35, 'lat': -0.74}, 'weather': [{'id': 800, 'main': 'Clear', 'description': 'clear sky', 'icon': '01n'}], 'base': 'stations', 'main': {'temp': 21.6, 'pressure': 1014, 'humidity': 69, 'temp_min': 20, 'temp_max': 23}, 'visibility': 10000, 'wind': {'speed': 4.6, 'deg': 140}, 'clouds': {'all': 0}, 'dt': 1569373336, 'sys': {'type': 1, 'id': 8521, 'message': 0.0076, 'country': 'EC', 'sunrise': 1569325808, 'sunset': 1569369410}, 'timezone': -21600, 'id': 3652764, 'name': 'Puerto Ayora', 'cod': 200}\n",
      "{'coord': {'lon': -97.86, 'lat': 55.74}, 'weather': [{'id': 520, 'main': 'Rain', 'description': 'light intensity shower rain', 'icon': '09n'}], 'base': 'stations', 'main': {'temp': 10, 'pressure': 992, 'humidity': 76, 'temp_min': 10, 'temp_max': 10}, 'visibility': 24140, 'wind': {'speed': 7.7, 'deg': 270}, 'clouds': {'all': 90}, 'dt': 1569373289, 'sys': {'type': 1, 'id': 935, 'message': 0.0058, 'country': 'CA', 'sunrise': 1569327618, 'sunset': 1569371204}, 'timezone': -18000, 'id': 6165406, 'name': 'Thompson', 'cod': 200}\n",
      "take a one minute break\n",
      "{'coord': {'lon': 168.86, 'lat': -46.19}, 'weather': [{'id': 500, 'main': 'Rain', 'description': 'light rain', 'icon': '10d'}], 'base': 'stations', 'main': {'temp': 6.11, 'pressure': 994, 'humidity': 75, 'temp_min': 6.11, 'temp_max': 6.11}, 'wind': {'speed': 2.68, 'deg': 235, 'gust': 5.81}, 'rain': {'3h': 1.188}, 'clouds': {'all': 100}, 'dt': 1569373599, 'sys': {'type': 3, 'id': 2008959, 'message': 0.0072, 'country': 'NZ', 'sunrise': 1569349765, 'sunset': 1569393820}, 'timezone': 43200, 'id': 6201424, 'name': 'Mataura', 'cod': 200}\n",
      "{'coord': {'lon': -76.2, 'lat': -13.71}, 'weather': [{'id': 800, 'main': 'Clear', 'description': 'clear sky', 'icon': '01n'}], 'base': 'stations', 'main': {'temp': 17.11, 'pressure': 1016, 'humidity': 82, 'temp_min': 17, 'temp_max': 17.22}, 'visibility': 10000, 'wind': {'speed': 5.1, 'deg': 220}, 'clouds': {'all': 0}, 'dt': 1569373472, 'sys': {'type': 1, 'id': 8691, 'message': 0.0063, 'country': 'PE', 'sunrise': 1569322384, 'sunset': 1569366044}, 'timezone': -18000, 'id': 3932145, 'name': 'Pisco', 'cod': 200}\n",
      "{'coord': {'lon': -68.31, 'lat': -54.81}, 'weather': [{'id': 803, 'main': 'Clouds', 'description': 'broken clouds', 'icon': '04n'}], 'base': 'stations', 'main': {'temp': 7, 'pressure': 1004, 'humidity': 70, 'temp_min': 7, 'temp_max': 7}, 'visibility': 10000, 'wind': {'speed': 2.1, 'deg': 360}, 'clouds': {'all': 75}, 'dt': 1569373599, 'sys': {'type': 1, 'id': 8303, 'message': 0.0065, 'country': 'AR', 'sunrise': 1569320231, 'sunset': 1569364411}, 'timezone': -10800, 'id': 3833367, 'name': 'Ushuaia', 'cod': 200}\n",
      "{'coord': {'lon': 124.89, 'lat': -9.11}, 'weather': [{'id': 802, 'main': 'Clouds', 'description': 'scattered clouds', 'icon': '03d'}], 'base': 'stations', 'main': {'temp': 25.29, 'pressure': 1014.91, 'humidity': 75, 'temp_min': 25.29, 'temp_max': 25.29, 'sea_level': 1014.91, 'grnd_level': 1014.51}, 'wind': {'speed': 2.74, 'deg': 101.995}, 'clouds': {'all': 39}, 'dt': 1569373599, 'sys': {'message': 0.0058, 'country': 'ID', 'sunrise': 1569360518, 'sunset': 1569404168}, 'timezone': 28800, 'id': 1651103, 'name': 'Atambua', 'cod': 200}\n",
      "{'coord': {'lon': -74.98, 'lat': 39.31}, 'weather': [{'id': 800, 'main': 'Clear', 'description': 'clear sky', 'icon': '01n'}], 'base': 'stations', 'main': {'temp': 19.77, 'pressure': 1012, 'humidity': 77, 'temp_min': 16.67, 'temp_max': 23}, 'visibility': 16093, 'wind': {'speed': 1.5, 'deg': 290}, 'clouds': {'all': 1}, 'dt': 1569373473, 'sys': {'type': 1, 'id': 9745, 'message': 0.0091, 'country': 'US', 'sunrise': 1569322148, 'sunset': 1569365694}, 'timezone': -14400, 'id': 4501427, 'name': 'Port Elizabeth', 'cod': 200}\n",
      "take a one minute break\n",
      "{'coord': {'lon': 115.35, 'lat': -33.64}, 'weather': [{'id': 803, 'main': 'Clouds', 'description': 'broken clouds', 'icon': '04d'}], 'base': 'stations', 'main': {'temp': 17.35, 'pressure': 1012, 'humidity': 59, 'temp_min': 15, 'temp_max': 18.89}, 'wind': {'speed': 6.23, 'deg': 262.532}, 'rain': {'3h': 0.062}, 'clouds': {'all': 62}, 'dt': 1569373664, 'sys': {'type': 3, 'id': 2011706, 'message': 0.0079, 'country': 'AU', 'sunrise': 1569362694, 'sunset': 1569406569}, 'timezone': 28800, 'id': 2075265, 'name': 'Busselton', 'cod': 200}\n",
      "{'coord': {'lon': 145.42, 'lat': -16.99}, 'weather': [{'id': 804, 'main': 'Clouds', 'description': 'overcast clouds', 'icon': '04d'}], 'base': 'stations', 'main': {'temp': 25.76, 'pressure': 1020, 'humidity': 54, 'temp_min': 23.89, 'temp_max': 28}, 'visibility': 10000, 'wind': {'speed': 8.2, 'deg': 130}, 'clouds': {'all': 90}, 'dt': 1569373130, 'sys': {'type': 1, 'id': 9490, 'message': 0.0096, 'country': 'AU', 'sunrise': 1569355566, 'sunset': 1569399268}, 'timezone': 36000, 'id': 2158767, 'name': 'Mareeba', 'cod': 200}\n",
      "{'coord': {'lon': -139.03, 'lat': -9.8}, 'weather': [{'id': 500, 'main': 'Rain', 'description': 'light rain', 'icon': '10n'}], 'base': 'stations', 'main': {'temp': 26.49, 'pressure': 1014.14, 'humidity': 76, 'temp_min': 26.49, 'temp_max': 26.49, 'sea_level': 1014.14, 'grnd_level': 1014.08}, 'wind': {'speed': 8.03, 'deg': 106.717}, 'rain': {'3h': 0.125}, 'clouds': {'all': 0}, 'dt': 1569373131, 'sys': {'message': 0.0063, 'country': 'PF', 'sunrise': 1569337466, 'sunset': 1569381112}, 'timezone': -34200, 'id': 4020109, 'name': 'Atuona', 'cod': 200}\n",
      "{'coord': {'lon': 103.64, 'lat': -3.75}, 'weather': [{'id': 801, 'main': 'Clouds', 'description': 'few clouds', 'icon': '02d'}], 'base': 'stations', 'main': {'temp': 20.09, 'pressure': 1013.21, 'humidity': 85, 'temp_min': 20.09, 'temp_max': 20.09, 'sea_level': 1013.21, 'grnd_level': 935.26}, 'wind': {'speed': 1.27, 'deg': 185.535}, 'clouds': {'all': 20}, 'dt': 1569373665, 'sys': {'message': 0.0055, 'country': 'ID', 'sunrise': 1569365632, 'sunset': 1569409251}, 'timezone': 25200, 'id': 1638775, 'name': 'Payo', 'cod': 200}\n",
      "{'cod': '404', 'message': 'city not found'}\n",
      "{'coord': {'lon': 147.95, 'lat': 62.72}, 'weather': [{'id': 804, 'main': 'Clouds', 'description': 'overcast clouds', 'icon': '04d'}], 'base': 'stations', 'main': {'temp': -4.81, 'pressure': 1014.36, 'humidity': 50, 'temp_min': -4.81, 'temp_max': -4.81, 'sea_level': 1014.36, 'grnd_level': 890.11}, 'wind': {'speed': 3, 'deg': 58.444}, 'clouds': {'all': 100}, 'dt': 1569373665, 'sys': {'message': 0.0054, 'country': 'RU', 'sunrise': 1569355045, 'sunset': 1569398575}, 'timezone': 39600, 'id': 2124611, 'name': 'Kholodnyy', 'cod': 200}\n",
      "take a one minute break\n",
      "{'cod': '404', 'message': 'city not found'}\n",
      "{'coord': {'lon': -97.86, 'lat': 55.74}, 'weather': [{'id': 520, 'main': 'Rain', 'description': 'light intensity shower rain', 'icon': '09n'}], 'base': 'stations', 'main': {'temp': 10, 'pressure': 992, 'humidity': 76, 'temp_min': 10, 'temp_max': 10}, 'visibility': 24140, 'wind': {'speed': 7.7, 'deg': 270}, 'clouds': {'all': 90}, 'dt': 1569373289, 'sys': {'type': 1, 'id': 935, 'message': 0.0058, 'country': 'CA', 'sunrise': 1569327618, 'sunset': 1569371204}, 'timezone': -18000, 'id': 6165406, 'name': 'Thompson', 'cod': 200}\n",
      "{'coord': {'lon': -42.02, 'lat': -22.97}, 'weather': [{'id': 800, 'main': 'Clear', 'description': 'clear sky', 'icon': '01n'}], 'base': 'stations', 'main': {'temp': 20, 'pressure': 1021, 'humidity': 64, 'temp_min': 20, 'temp_max': 20}, 'visibility': 10000, 'wind': {'speed': 4.1, 'deg': 40}, 'clouds': {'all': 0}, 'dt': 1569373135, 'sys': {'type': 1, 'id': 8343, 'message': 0.0073, 'country': 'BR', 'sunrise': 1569314156, 'sunset': 1569357869}, 'timezone': -10800, 'id': 3471451, 'name': 'Arraial do Cabo', 'cod': 200}\n",
      "{'coord': {'lon': -134.97, 'lat': -23.12}, 'weather': [{'id': 803, 'main': 'Clouds', 'description': 'broken clouds', 'icon': '04n'}], 'base': 'stations', 'main': {'temp': 21.69, 'pressure': 1019.75, 'humidity': 65, 'temp_min': 21.69, 'temp_max': 21.69, 'sea_level': 1019.75, 'grnd_level': 1019.6}, 'wind': {'speed': 1.97, 'deg': 26.11}, 'clouds': {'all': 76}, 'dt': 1569373535, 'sys': {'message': 0.0057, 'country': 'PF', 'sunrise': 1569336448, 'sunset': 1569380183}, 'timezone': -32400, 'id': 4030556, 'name': 'Rikitea', 'cod': 200}\n",
      "{'coord': {'lon': 29.75, 'lat': 47.33}, 'weather': [{'id': 802, 'main': 'Clouds', 'description': 'scattered clouds', 'icon': '03n'}], 'base': 'stations', 'main': {'temp': 10.29, 'pressure': 1016.2, 'humidity': 44, 'temp_min': 10.29, 'temp_max': 10.29, 'sea_level': 1016.2, 'grnd_level': 996.32}, 'wind': {'speed': 3.32, 'deg': 125.323}, 'clouds': {'all': 36}, 'dt': 1569373729, 'sys': {'message': 0.0055, 'country': 'UA', 'sunrise': 1569383461, 'sunset': 1569426880}, 'timezone': 10800, 'id': 709071, 'name': 'Frunzivka', 'cod': 200}\n",
      "{'coord': {'lon': 121.89, 'lat': -33.86}, 'weather': [{'id': 803, 'main': 'Clouds', 'description': 'broken clouds', 'icon': '04d'}], 'base': 'stations', 'main': {'temp': 17, 'pressure': 1018, 'humidity': 36, 'temp_min': 17, 'temp_max': 17}, 'visibility': 10000, 'wind': {'speed': 6.2, 'deg': 310}, 'clouds': {'all': 52}, 'dt': 1569373730, 'sys': {'type': 1, 'id': 9525, 'message': 0.0063, 'country': 'AU', 'sunrise': 1569361125, 'sunset': 1569405000}, 'timezone': 28800, 'id': 2071860, 'name': 'Esperance', 'cod': 200}\n"
     ]
    },
    {
     "name": "stdout",
     "output_type": "stream",
     "text": [
      "take a one minute break\n",
      "{'coord': {'lon': -37.64, 'lat': 65.61}, 'weather': [{'id': 300, 'main': 'Drizzle', 'description': 'light intensity drizzle', 'icon': '09n'}], 'base': 'stations', 'main': {'temp': 5, 'pressure': 996, 'humidity': 93, 'temp_min': 5, 'temp_max': 5}, 'wind': {'speed': 3.1, 'deg': 70}, 'clouds': {'all': 100}, 'dt': 1569373794, 'sys': {'type': 1, 'id': 81, 'message': 0.0097, 'country': 'GL', 'sunrise': 1569313086, 'sunset': 1569356837}, 'timezone': -7200, 'id': 3424607, 'name': 'Tasiilaq', 'cod': 200}\n",
      "{'coord': {'lon': -58.16, 'lat': 6.8}, 'weather': [{'id': 211, 'main': 'Thunderstorm', 'description': 'thunderstorm', 'icon': '11n'}], 'base': 'stations', 'main': {'temp': 27.91, 'pressure': 1013, 'humidity': 74, 'temp_min': 27, 'temp_max': 29}, 'visibility': 10000, 'wind': {'speed': 5.1, 'deg': 50}, 'clouds': {'all': 40}, 'dt': 1569373794, 'sys': {'type': 1, 'id': 8776, 'message': 0.0064, 'country': 'GY', 'sunrise': 1569318097, 'sunset': 1569361674}, 'timezone': -14400, 'id': 3378644, 'name': 'Georgetown', 'cod': 200}\n",
      "{'coord': {'lon': -104.67, 'lat': 23.99}, 'weather': [{'id': 804, 'main': 'Clouds', 'description': 'overcast clouds', 'icon': '04n'}], 'base': 'stations', 'main': {'temp': 19.07, 'pressure': 1021, 'humidity': 52, 'temp_min': 17.78, 'temp_max': 20}, 'visibility': 19312, 'wind': {'speed': 3.1, 'deg': 220}, 'clouds': {'all': 90}, 'dt': 1569373794, 'sys': {'type': 1, 'id': 7113, 'message': 0.008, 'country': 'MX', 'sunrise': 1569329276, 'sunset': 1569372814}, 'timezone': -18000, 'id': 4011743, 'name': 'Constitucion', 'cod': 200}\n",
      "{'coord': {'lon': -8.4, 'lat': 51.89}, 'weather': [{'id': 803, 'main': 'Clouds', 'description': 'broken clouds', 'icon': '04n'}], 'base': 'stations', 'main': {'temp': 14.26, 'pressure': 997, 'humidity': 93, 'temp_min': 14, 'temp_max': 14.44}, 'visibility': 10000, 'wind': {'speed': 8.2, 'deg': 270}, 'clouds': {'all': 75}, 'dt': 1569373794, 'sys': {'type': 1, 'id': 1563, 'message': 0.0058, 'country': 'IE', 'sunrise': 1569392631, 'sunset': 1569436018}, 'timezone': 3600, 'id': 2965139, 'name': 'Mahon', 'cod': 200}\n",
      "{'coord': {'lon': 123.37, 'lat': 66.77}, 'weather': [{'id': 804, 'main': 'Clouds', 'description': 'overcast clouds', 'icon': '04d'}], 'base': 'stations', 'main': {'temp': 2.89, 'pressure': 1012.06, 'humidity': 74, 'temp_min': 2.89, 'temp_max': 2.89, 'sea_level': 1012.06, 'grnd_level': 998.88}, 'wind': {'speed': 3.57, 'deg': 173.104}, 'clouds': {'all': 100}, 'dt': 1569373794, 'sys': {'message': 0.0054, 'country': 'RU', 'sunrise': 1569360941, 'sunset': 1569404474}, 'timezone': 32400, 'id': 2012530, 'name': 'Zhigansk', 'cod': 200}\n",
      "take a one minute break\n",
      "{'coord': {'lon': -51.19, 'lat': 68.82}, 'weather': [{'id': 804, 'main': 'Clouds', 'description': 'overcast clouds', 'icon': '04n'}], 'base': 'stations', 'main': {'temp': 3, 'pressure': 1004, 'humidity': 86, 'temp_min': 3, 'temp_max': 3}, 'wind': {'speed': 0.5, 'deg': 160}, 'clouds': {'all': 100}, 'dt': 1569373859, 'sys': {'type': 1, 'id': 165, 'message': 0.0057, 'country': 'GL', 'sunrise': 1569316313, 'sunset': 1569360113}, 'timezone': -7200, 'id': 3420768, 'name': 'Qasigiannguit', 'cod': 200}\n",
      "{'coord': {'lon': 138.6, 'lat': -33.21}, 'weather': [{'id': 800, 'main': 'Clear', 'description': 'clear sky', 'icon': '01d'}], 'base': 'stations', 'main': {'temp': 15.39, 'pressure': 1029.59, 'humidity': 53, 'temp_min': 15.39, 'temp_max': 15.39, 'sea_level': 1029.59, 'grnd_level': 991.86}, 'wind': {'speed': 4.73, 'deg': 39.655}, 'clouds': {'all': 0}, 'dt': 1569373401, 'sys': {'message': 0.0054, 'country': 'AU', 'sunrise': 1569357122, 'sunset': 1569400984}, 'timezone': 34200, 'id': 2069194, 'name': 'Jamestown', 'cod': 200}\n",
      "{'coord': {'lon': 14.28, 'lat': -22.12}, 'weather': [{'id': 803, 'main': 'Clouds', 'description': 'broken clouds', 'icon': '04n'}], 'base': 'stations', 'main': {'temp': 14.44, 'pressure': 1015, 'humidity': 91, 'temp_min': 14.44, 'temp_max': 14.44}, 'wind': {'speed': 1.34, 'deg': 14, 'gust': 3.58}, 'clouds': {'all': 84}, 'dt': 1569373859, 'sys': {'type': 3, 'id': 2012545, 'message': 0.0074, 'country': 'NA', 'sunrise': 1569386997, 'sunset': 1569430768}, 'timezone': 7200, 'id': 3356832, 'name': 'Henties Bay', 'cod': 200}\n",
      "{'coord': {'lon': 23.8, 'lat': 50.04}, 'weather': [{'id': 803, 'main': 'Clouds', 'description': 'broken clouds', 'icon': '04n'}], 'base': 'stations', 'main': {'temp': 5, 'pressure': 1013, 'humidity': 93, 'temp_min': 5, 'temp_max': 5}, 'visibility': 9000, 'wind': {'speed': 2, 'deg': 140}, 'clouds': {'all': 76}, 'dt': 1569373860, 'sys': {'type': 1, 'id': 8909, 'message': 0.0065, 'country': 'UA', 'sunrise': 1569384893, 'sunset': 1569428304}, 'timezone': 10800, 'id': 687093, 'name': 'Kozulka', 'cod': 200}\n",
      "{'cod': '404', 'message': 'city not found'}\n",
      "{'coord': {'lon': 60.69, 'lat': 27.21}, 'weather': [{'id': 800, 'main': 'Clear', 'description': 'clear sky', 'icon': '01n'}], 'base': 'stations', 'main': {'temp': 30, 'pressure': 1010, 'humidity': 55, 'temp_min': 30, 'temp_max': 30}, 'visibility': 10000, 'wind': {'speed': 3.52, 'deg': 358.991}, 'clouds': {'all': 0}, 'dt': 1569373860, 'sys': {'type': 1, 'id': 7518, 'message': 0.0065, 'country': 'IR', 'sunrise': 1569376006, 'sunset': 1569419488}, 'timezone': 12600, 'id': 1160939, 'name': 'Iranshahr', 'cod': 200}\n",
      "take a one minute break\n",
      "{'coord': {'lon': 26.89, 'lat': -33.59}, 'weather': [{'id': 803, 'main': 'Clouds', 'description': 'broken clouds', 'icon': '04n'}], 'base': 'stations', 'main': {'temp': 12.78, 'pressure': 1036, 'humidity': 74, 'temp_min': 12.78, 'temp_max': 12.78}, 'wind': {'speed': 0.89, 'deg': 352, 'gust': 2.24}, 'clouds': {'all': 61}, 'dt': 1569373925, 'sys': {'type': 3, 'id': 2011314, 'message': 0.0053, 'country': 'ZA', 'sunrise': 1569383904, 'sunset': 1569427809}, 'timezone': 7200, 'id': 964432, 'name': 'Port Alfred', 'cod': 200}\n",
      "{'coord': {'lon': 88.39, 'lat': 69.49}, 'weather': [{'id': 803, 'main': 'Clouds', 'description': 'broken clouds', 'icon': '04d'}], 'base': 'stations', 'main': {'temp': 1, 'pressure': 989, 'humidity': 84, 'temp_min': 1, 'temp_max': 1}, 'visibility': 8000, 'wind': {'speed': 7, 'deg': 190}, 'clouds': {'all': 75}, 'dt': 1569373867, 'sys': {'type': 1, 'id': 8951, 'message': 0.0076, 'country': 'RU', 'sunrise': 1569369345, 'sunset': 1569412856}, 'timezone': 25200, 'id': 1490256, 'name': 'Talnakh', 'cod': 200}\n",
      "{'cod': '404', 'message': 'city not found'}\n",
      "{'coord': {'lon': -134.97, 'lat': -23.12}, 'weather': [{'id': 803, 'main': 'Clouds', 'description': 'broken clouds', 'icon': '04n'}], 'base': 'stations', 'main': {'temp': 21.69, 'pressure': 1019.75, 'humidity': 65, 'temp_min': 21.69, 'temp_max': 21.69, 'sea_level': 1019.75, 'grnd_level': 1019.6}, 'wind': {'speed': 1.97, 'deg': 26.11}, 'clouds': {'all': 76}, 'dt': 1569373535, 'sys': {'message': 0.0057, 'country': 'PF', 'sunrise': 1569336448, 'sunset': 1569380183}, 'timezone': -32400, 'id': 4030556, 'name': 'Rikitea', 'cod': 200}\n",
      "{'coord': {'lon': -134.97, 'lat': -23.12}, 'weather': [{'id': 803, 'main': 'Clouds', 'description': 'broken clouds', 'icon': '04n'}], 'base': 'stations', 'main': {'temp': 21.69, 'pressure': 1019.75, 'humidity': 65, 'temp_min': 21.69, 'temp_max': 21.69, 'sea_level': 1019.75, 'grnd_level': 1019.6}, 'wind': {'speed': 1.97, 'deg': 26.11}, 'clouds': {'all': 76}, 'dt': 1569373535, 'sys': {'message': 0.0057, 'country': 'PF', 'sunrise': 1569336448, 'sunset': 1569380183}, 'timezone': -32400, 'id': 4030556, 'name': 'Rikitea', 'cod': 200}\n",
      "{'cod': '404', 'message': 'city not found'}\n",
      "{'coord': {'lon': 26.89, 'lat': -33.59}, 'weather': [{'id': 803, 'main': 'Clouds', 'description': 'broken clouds', 'icon': '04n'}], 'base': 'stations', 'main': {'temp': 12.78, 'pressure': 1036, 'humidity': 74, 'temp_min': 12.78, 'temp_max': 12.78}, 'wind': {'speed': 0.89, 'deg': 352, 'gust': 2.24}, 'clouds': {'all': 61}, 'dt': 1569373925, 'sys': {'type': 3, 'id': 2011314, 'message': 0.0053, 'country': 'ZA', 'sunrise': 1569383904, 'sunset': 1569427809}, 'timezone': 7200, 'id': 964432, 'name': 'Port Alfred', 'cod': 200}\n",
      "take a one minute break\n",
      "{'coord': {'lon': 46.64, 'lat': -16.11}, 'weather': [{'id': 800, 'main': 'Clear', 'description': 'clear sky', 'icon': '01n'}], 'base': 'stations', 'main': {'temp': 23, 'pressure': 1012, 'humidity': 78, 'temp_min': 23, 'temp_max': 23}, 'visibility': 10000, 'wind': {'speed': 2.1, 'deg': 100}, 'clouds': {'all': 0}, 'dt': 1569373990, 'sys': {'type': 1, 'id': 2143, 'message': 0.0077, 'country': 'MG', 'sunrise': 1569379263, 'sunset': 1569422973}, 'timezone': 10800, 'id': 1059507, 'name': 'Marovoay', 'cod': 200}\n",
      "{'coord': {'lon': 135.23, 'lat': 35.07}, 'weather': [{'id': 801, 'main': 'Clouds', 'description': 'few clouds', 'icon': '02d'}], 'base': 'stations', 'main': {'temp': 23.16, 'pressure': 1020, 'humidity': 64, 'temp_min': 20, 'temp_max': 26.11}, 'visibility': 10000, 'wind': {'speed': 2.1, 'deg': 350}, 'clouds': {'all': 20}, 'dt': 1569373990, 'sys': {'type': 1, 'id': 8032, 'message': 0.0066, 'country': 'JP', 'sunrise': 1569358118, 'sunset': 1569401605}, 'timezone': 32400, 'id': 1852901, 'name': 'Sasayama', 'cod': 200}\n",
      "{'coord': {'lon': 168.86, 'lat': -46.19}, 'weather': [{'id': 500, 'main': 'Rain', 'description': 'light rain', 'icon': '10d'}], 'base': 'stations', 'main': {'temp': 6.11, 'pressure': 994, 'humidity': 75, 'temp_min': 6.11, 'temp_max': 6.11}, 'wind': {'speed': 2.68, 'deg': 235, 'gust': 5.81}, 'rain': {'3h': 1.188}, 'clouds': {'all': 100}, 'dt': 1569373599, 'sys': {'type': 3, 'id': 2008959, 'message': 0.0072, 'country': 'NZ', 'sunrise': 1569349765, 'sunset': 1569393820}, 'timezone': 43200, 'id': 6201424, 'name': 'Mataura', 'cod': 200}\n"
     ]
    },
    {
     "name": "stdout",
     "output_type": "stream",
     "text": [
      "{'coord': {'lon': -90.35, 'lat': -0.74}, 'weather': [{'id': 800, 'main': 'Clear', 'description': 'clear sky', 'icon': '01n'}], 'base': 'stations', 'main': {'temp': 21.61, 'pressure': 1014, 'humidity': 69, 'temp_min': 20, 'temp_max': 23}, 'visibility': 10000, 'wind': {'speed': 4.6, 'deg': 140}, 'clouds': {'all': 0}, 'dt': 1569373990, 'sys': {'type': 1, 'id': 8521, 'message': 0.0056, 'country': 'EC', 'sunrise': 1569325808, 'sunset': 1569369410}, 'timezone': -21600, 'id': 3652764, 'name': 'Puerto Ayora', 'cod': 200}\n",
      "{'coord': {'lon': 27.91, 'lat': -33.02}, 'weather': [{'id': 804, 'main': 'Clouds', 'description': 'overcast clouds', 'icon': '04n'}], 'base': 'stations', 'main': {'temp': 11.39, 'pressure': 1038.7, 'humidity': 70, 'temp_min': 11.39, 'temp_max': 11.39, 'sea_level': 1038.7, 'grnd_level': 1000.93}, 'wind': {'speed': 1.48, 'deg': 108.056}, 'clouds': {'all': 90}, 'dt': 1569373927, 'sys': {'message': 0.0072, 'country': 'ZA', 'sunrise': 1569383664, 'sunset': 1569427560}, 'timezone': 7200, 'id': 1006984, 'name': 'East London', 'cod': 200}\n",
      "take a one minute break\n",
      "{'coord': {'lon': -90.35, 'lat': -0.74}, 'weather': [{'id': 800, 'main': 'Clear', 'description': 'clear sky', 'icon': '01n'}], 'base': 'stations', 'main': {'temp': 21.61, 'pressure': 1014, 'humidity': 69, 'temp_min': 20, 'temp_max': 23}, 'visibility': 10000, 'wind': {'speed': 4.6, 'deg': 140}, 'clouds': {'all': 0}, 'dt': 1569373990, 'sys': {'type': 1, 'id': 8521, 'message': 0.0056, 'country': 'EC', 'sunrise': 1569325808, 'sunset': 1569369410}, 'timezone': -21600, 'id': 3652764, 'name': 'Puerto Ayora', 'cod': 200}\n",
      "{'coord': {'lon': -69.36, 'lat': 77.48}, 'weather': [{'id': 804, 'main': 'Clouds', 'description': 'overcast clouds', 'icon': '04n'}], 'base': 'stations', 'main': {'temp': -6.31, 'pressure': 1001.52, 'humidity': 87, 'temp_min': -6.31, 'temp_max': -6.31, 'sea_level': 1001.52, 'grnd_level': 963.07}, 'wind': {'speed': 2.57, 'deg': 86.857}, 'clouds': {'all': 96}, 'dt': 1569373798, 'sys': {'message': 0.0102, 'country': 'GL', 'sunrise': 1569320513, 'sunset': 1569364632}, 'timezone': -10800, 'id': 3831208, 'name': 'Qaanaaq', 'cod': 200}\n",
      "{'coord': {'lon': -73.76, 'lat': -42.48}, 'weather': [{'id': 800, 'main': 'Clear', 'description': 'clear sky', 'icon': '01n'}], 'base': 'stations', 'main': {'temp': 10, 'pressure': 1028, 'humidity': 100, 'temp_min': 10, 'temp_max': 10}, 'visibility': 10000, 'wind': {'speed': 1.5, 'deg': 200}, 'clouds': {'all': 0}, 'dt': 1569373927, 'sys': {'type': 1, 'id': 8512, 'message': 0.0075, 'country': 'CL', 'sunrise': 1569321664, 'sunset': 1569365593}, 'timezone': -10800, 'id': 3896218, 'name': 'Castro', 'cod': 200}\n",
      "{'coord': {'lon': 75.45, 'lat': 63.2}, 'weather': [{'id': 804, 'main': 'Clouds', 'description': 'overcast clouds', 'icon': '04d'}], 'base': 'stations', 'main': {'temp': 0.69, 'pressure': 997.57, 'humidity': 93, 'temp_min': 0.69, 'temp_max': 0.69, 'sea_level': 997.57, 'grnd_level': 987.38}, 'wind': {'speed': 7.13, 'deg': 228.884}, 'clouds': {'all': 100}, 'dt': 1569374055, 'sys': {'message': 0.0058, 'country': 'RU', 'sunrise': 1569372476, 'sunset': 1569415935}, 'timezone': 18000, 'id': 1496503, 'name': 'Noyabrsk', 'cod': 200}\n",
      "{'coord': {'lon': -134.97, 'lat': -23.12}, 'weather': [{'id': 803, 'main': 'Clouds', 'description': 'broken clouds', 'icon': '04n'}], 'base': 'stations', 'main': {'temp': 21.69, 'pressure': 1019.75, 'humidity': 65, 'temp_min': 21.69, 'temp_max': 21.69, 'sea_level': 1019.75, 'grnd_level': 1019.6}, 'wind': {'speed': 1.97, 'deg': 26.11}, 'clouds': {'all': 76}, 'dt': 1569373535, 'sys': {'message': 0.0057, 'country': 'PF', 'sunrise': 1569336448, 'sunset': 1569380183}, 'timezone': -32400, 'id': 4030556, 'name': 'Rikitea', 'cod': 200}\n",
      "take a one minute break\n",
      "{'coord': {'lon': -96.99, 'lat': 50.56}, 'weather': [{'id': 500, 'main': 'Rain', 'description': 'light rain', 'icon': '10n'}], 'base': 'stations', 'main': {'temp': 14.26, 'pressure': 1001, 'humidity': 68, 'temp_min': 12.78, 'temp_max': 15}, 'wind': {'speed': 5.49, 'deg': 309.519}, 'rain': {'3h': 0.188}, 'clouds': {'all': 58}, 'dt': 1569374122, 'sys': {'type': 3, 'id': 19218, 'message': 0.0065, 'country': 'CA', 'sunrise': 1569327421, 'sunset': 1569370983}, 'timezone': -18000, 'id': 5961417, 'name': 'Husavik', 'cod': 200}\n",
      "{'coord': {'lon': 35.1, 'lat': 9.8}, 'weather': [{'id': 501, 'main': 'Rain', 'description': 'moderate rain', 'icon': '10n'}], 'base': 'stations', 'main': {'temp': 16.99, 'pressure': 1010.92, 'humidity': 95, 'temp_min': 16.99, 'temp_max': 16.99, 'sea_level': 1010.92, 'grnd_level': 869.82}, 'wind': {'speed': 1.75, 'deg': 183.664}, 'rain': {'3h': 3.75}, 'clouds': {'all': 96}, 'dt': 1569374122, 'sys': {'message': 0.007, 'country': 'ET', 'sunrise': 1569382114, 'sunset': 1569425660}, 'timezone': 10800, 'id': 331038, 'name': 'Mendi', 'cod': 200}\n",
      "{'coord': {'lon': -173.23, 'lat': 64.42}, 'weather': [{'id': 803, 'main': 'Clouds', 'description': 'broken clouds', 'icon': '04n'}], 'base': 'stations', 'main': {'temp': 4, 'pressure': 1004, 'humidity': 91, 'temp_min': 4, 'temp_max': 4}, 'visibility': 10000, 'wind': {'speed': 3, 'deg': 220}, 'clouds': {'all': 75}, 'dt': 1569374056, 'sys': {'type': 1, 'id': 8875, 'message': 0.0086, 'country': 'RU', 'sunrise': 1569432277, 'sunset': 1569475470}, 'timezone': 43200, 'id': 4031574, 'name': 'Provideniya', 'cod': 200}\n",
      "{'coord': {'lon': -151.75, 'lat': -16.48}, 'weather': [{'id': 803, 'main': 'Clouds', 'description': 'broken clouds', 'icon': '04n'}], 'base': 'stations', 'main': {'temp': 26.59, 'pressure': 1015.88, 'humidity': 76, 'temp_min': 26.59, 'temp_max': 26.59, 'sea_level': 1015.88, 'grnd_level': 1016.03}, 'wind': {'speed': 9, 'deg': 99.584}, 'clouds': {'all': 54}, 'dt': 1569374122, 'sys': {'message': 0.0072, 'country': 'PF', 'sunrise': 1569340497, 'sunset': 1569384186}, 'timezone': -36000, 'id': 4034551, 'name': 'Faanui', 'cod': 200}\n",
      "{'coord': {'lon': -6.55, 'lat': 41.42}, 'weather': [{'id': 800, 'main': 'Clear', 'description': 'clear sky', 'icon': '01n'}], 'base': 'stations', 'main': {'temp': 12.79, 'pressure': 1020.71, 'humidity': 75, 'temp_min': 12.79, 'temp_max': 12.79, 'sea_level': 1020.71, 'grnd_level': 957.92}, 'wind': {'speed': 2.58, 'deg': 302.944}, 'clouds': {'all': 1}, 'dt': 1569373669, 'sys': {'message': 0.0106, 'country': 'PT', 'sunrise': 1569392173, 'sunset': 1569435588}, 'timezone': 3600, 'id': 2737599, 'name': 'Saldanha', 'cod': 200}\n",
      "take a one minute break\n",
      "{'coord': {'lon': -73.75, 'lat': 42.65}, 'weather': [{'id': 804, 'main': 'Clouds', 'description': 'overcast clouds', 'icon': '04n'}], 'base': 'stations', 'main': {'temp': 14.52, 'pressure': 1012, 'humidity': 93, 'temp_min': 11.11, 'temp_max': 17.22}, 'visibility': 16093, 'wind': {'speed': 1.5, 'deg': 330}, 'clouds': {'all': 90}, 'dt': 1569373359, 'sys': {'type': 1, 'id': 5137, 'message': 0.0121, 'country': 'US', 'sunrise': 1569321850, 'sunset': 1569365402}, 'timezone': -14400, 'id': 5106834, 'name': 'Albany', 'cod': 200}\n",
      "{'coord': {'lon': -151.75, 'lat': -16.48}, 'weather': [{'id': 803, 'main': 'Clouds', 'description': 'broken clouds', 'icon': '04n'}], 'base': 'stations', 'main': {'temp': 26.59, 'pressure': 1015.88, 'humidity': 76, 'temp_min': 26.59, 'temp_max': 26.59, 'sea_level': 1015.88, 'grnd_level': 1016.03}, 'wind': {'speed': 9, 'deg': 99.584}, 'clouds': {'all': 54}, 'dt': 1569374122, 'sys': {'message': 0.0072, 'country': 'PF', 'sunrise': 1569340497, 'sunset': 1569384186}, 'timezone': -36000, 'id': 4034551, 'name': 'Faanui', 'cod': 200}\n",
      "{'coord': {'lon': 52.85, 'lat': 43.35}, 'weather': [{'id': 803, 'main': 'Clouds', 'description': 'broken clouds', 'icon': '04n'}], 'base': 'stations', 'main': {'temp': 15.49, 'pressure': 1015.05, 'humidity': 48, 'temp_min': 15.49, 'temp_max': 15.49, 'sea_level': 1015.05, 'grnd_level': 996.14}, 'wind': {'speed': 4.3, 'deg': 77.076}, 'clouds': {'all': 84}, 'dt': 1569374190, 'sys': {'message': 0.0143, 'country': 'KZ', 'sunrise': 1569377909, 'sunset': 1569421347}, 'timezone': 18000, 'id': 607610, 'name': 'Zhanaozen', 'cod': 200}\n",
      "{'coord': {'lon': -70.96, 'lat': -30.69}, 'weather': [{'id': 800, 'main': 'Clear', 'description': 'clear sky', 'icon': '01n'}], 'base': 'stations', 'main': {'temp': 12.39, 'pressure': 1020.89, 'humidity': 54, 'temp_min': 12.39, 'temp_max': 12.39, 'sea_level': 1020.89, 'grnd_level': 905.47}, 'wind': {'speed': 0.92, 'deg': 322.942}, 'clouds': {'all': 0}, 'dt': 1569374190, 'sys': {'message': 0.0061, 'country': 'CL', 'sunrise': 1569321064, 'sunset': 1569364849}, 'timezone': -10800, 'id': 3879429, 'name': 'Monte Patria', 'cod': 200}\n"
     ]
    },
    {
     "name": "stdout",
     "output_type": "stream",
     "text": [
      "{'coord': {'lon': 20.43, 'lat': 38.2}, 'weather': [{'id': 800, 'main': 'Clear', 'description': 'clear sky', 'icon': '01n'}], 'base': 'stations', 'main': {'temp': 21.11, 'pressure': 1005, 'humidity': 76, 'temp_min': 21.11, 'temp_max': 21.11}, 'wind': {'speed': 4.02, 'deg': 340}, 'clouds': {'all': 0}, 'dt': 1569374190, 'sys': {'type': 3, 'id': 2004516, 'message': 0.0096, 'country': 'GR', 'sunrise': 1569385689, 'sunset': 1569429125}, 'timezone': 10800, 'id': 258175, 'name': 'Lixourion', 'cod': 200}\n",
      "take a one minute break\n",
      "{'coord': {'lon': -67.52, 'lat': -46.43}, 'weather': [{'id': 800, 'main': 'Clear', 'description': 'clear sky', 'icon': '01n'}], 'base': 'stations', 'main': {'temp': 16.99, 'pressure': 1016.76, 'humidity': 37, 'temp_min': 16.99, 'temp_max': 16.99, 'sea_level': 1016.76, 'grnd_level': 983.18}, 'wind': {'speed': 4.33, 'deg': 237.179}, 'clouds': {'all': 3}, 'dt': 1569374257, 'sys': {'message': 0.0059, 'country': 'AR', 'sunrise': 1569320135, 'sunset': 1569364127}, 'timezone': -10800, 'id': 3863379, 'name': 'Mar del Plata', 'cod': 200}\n",
      "{'coord': {'lon': -46.02, 'lat': -1.2}, 'weather': [{'id': 802, 'main': 'Clouds', 'description': 'scattered clouds', 'icon': '03n'}], 'base': 'stations', 'main': {'temp': 26.39, 'pressure': 1013.99, 'humidity': 79, 'temp_min': 26.39, 'temp_max': 26.39, 'sea_level': 1013.99, 'grnd_level': 1013.09}, 'wind': {'speed': 3.54, 'deg': 72.563}, 'clouds': {'all': 40}, 'dt': 1569374125, 'sys': {'message': 0.0082, 'country': 'BR', 'sunrise': 1569315171, 'sunset': 1569358774}, 'timezone': -10800, 'id': 3402648, 'name': 'Carutapera', 'cod': 200}\n",
      "{'coord': {'lon': -73.76, 'lat': -42.48}, 'weather': [{'id': 800, 'main': 'Clear', 'description': 'clear sky', 'icon': '01n'}], 'base': 'stations', 'main': {'temp': 10, 'pressure': 1028, 'humidity': 100, 'temp_min': 10, 'temp_max': 10}, 'visibility': 10000, 'wind': {'speed': 1.5, 'deg': 200}, 'clouds': {'all': 0}, 'dt': 1569373927, 'sys': {'type': 1, 'id': 8512, 'message': 0.0075, 'country': 'CL', 'sunrise': 1569321664, 'sunset': 1569365593}, 'timezone': -10800, 'id': 3896218, 'name': 'Castro', 'cod': 200}\n",
      "{'coord': {'lon': -6.55, 'lat': 41.42}, 'weather': [{'id': 800, 'main': 'Clear', 'description': 'clear sky', 'icon': '01n'}], 'base': 'stations', 'main': {'temp': 12.79, 'pressure': 1020.71, 'humidity': 75, 'temp_min': 12.79, 'temp_max': 12.79, 'sea_level': 1020.71, 'grnd_level': 957.92}, 'wind': {'speed': 2.58, 'deg': 302.944}, 'clouds': {'all': 1}, 'dt': 1569373669, 'sys': {'message': 0.0106, 'country': 'PT', 'sunrise': 1569392173, 'sunset': 1569435588}, 'timezone': 3600, 'id': 2737599, 'name': 'Saldanha', 'cod': 200}\n",
      "{'coord': {'lon': -58.36, 'lat': -3.15}, 'weather': [{'id': 804, 'main': 'Clouds', 'description': 'overcast clouds', 'icon': '04n'}], 'base': 'stations', 'main': {'temp': 28.39, 'pressure': 1010.48, 'humidity': 53, 'temp_min': 28.39, 'temp_max': 28.39, 'sea_level': 1010.48, 'grnd_level': 1006.35}, 'wind': {'speed': 0.57, 'deg': 241.815}, 'clouds': {'all': 85}, 'dt': 1569374257, 'sys': {'message': 0.0077, 'country': 'BR', 'sunrise': 1569318128, 'sunset': 1569361738}, 'timezone': -14400, 'id': 3397893, 'name': 'Sao Sebastiao', 'cod': 200}\n",
      "take a one minute break\n",
      "{'coord': {'lon': -68.31, 'lat': -54.81}, 'weather': [{'id': 803, 'main': 'Clouds', 'description': 'broken clouds', 'icon': '04n'}], 'base': 'stations', 'main': {'temp': 7, 'pressure': 1004, 'humidity': 70, 'temp_min': 7, 'temp_max': 7}, 'visibility': 10000, 'wind': {'speed': 2.1, 'deg': 360}, 'clouds': {'all': 75}, 'dt': 1569374257, 'sys': {'type': 1, 'id': 8303, 'message': 0.0063, 'country': 'AR', 'sunrise': 1569320231, 'sunset': 1569364411}, 'timezone': -10800, 'id': 3833367, 'name': 'Ushuaia', 'cod': 200}\n",
      "{'coord': {'lon': 74.49, 'lat': 15.34}, 'weather': [{'id': 803, 'main': 'Clouds', 'description': 'broken clouds', 'icon': '04d'}], 'base': 'stations', 'main': {'temp': 22, 'pressure': 1012, 'humidity': 94, 'temp_min': 22, 'temp_max': 22}, 'visibility': 6000, 'wind': {'speed': 1, 'deg': 270}, 'clouds': {'all': 75}, 'dt': 1569373927, 'sys': {'type': 1, 'id': 9229, 'message': 0.0079, 'country': 'IN', 'sunrise': 1569372672, 'sunset': 1569416199}, 'timezone': 19800, 'id': 1273574, 'name': 'Vaini', 'cod': 200}\n",
      "{'coord': {'lon': -88.69, 'lat': 41.99}, 'weather': [{'id': 800, 'main': 'Clear', 'description': 'clear sky', 'icon': '01n'}], 'base': 'stations', 'main': {'temp': 20.73, 'pressure': 1009, 'humidity': 68, 'temp_min': 18.89, 'temp_max': 22.22}, 'visibility': 16093, 'wind': {'speed': 4.6, 'deg': 170}, 'clouds': {'all': 1}, 'dt': 1569374322, 'sys': {'type': 1, 'id': 3320, 'message': 0.0131, 'country': 'US', 'sunrise': 1569325439, 'sunset': 1569368982}, 'timezone': -18000, 'id': 4913110, 'name': 'Sycamore', 'cod': 200}\n",
      "{'coord': {'lon': -151.5, 'lat': -16.78}, 'weather': [{'id': 803, 'main': 'Clouds', 'description': 'broken clouds', 'icon': '04n'}], 'base': 'stations', 'main': {'temp': 26.29, 'pressure': 1016.26, 'humidity': 75, 'temp_min': 26.29, 'temp_max': 26.29, 'sea_level': 1016.26, 'grnd_level': 1016.03}, 'wind': {'speed': 8.94, 'deg': 98.678}, 'clouds': {'all': 51}, 'dt': 1569374322, 'sys': {'message': 0.0063, 'country': 'PF', 'sunrise': 1569340436, 'sunset': 1569384127}, 'timezone': -36000, 'id': 4033375, 'name': 'Tevaitoa', 'cod': 200}\n",
      "{'coord': {'lon': 115.24, 'lat': 5.28}, 'weather': [{'id': 803, 'main': 'Clouds', 'description': 'broken clouds', 'icon': '04d'}], 'base': 'stations', 'main': {'temp': 30.38, 'pressure': 1011, 'humidity': 55, 'temp_min': 30, 'temp_max': 31}, 'visibility': 10000, 'wind': {'speed': 4.6, 'deg': 70}, 'clouds': {'all': 75}, 'dt': 1569374095, 'sys': {'type': 1, 'id': 9372, 'message': 0.009, 'country': 'BN', 'sunrise': 1569362872, 'sunset': 1569406445}, 'timezone': 28800, 'id': 1733782, 'name': 'Victoria', 'cod': 200}\n",
      "take a one minute break\n",
      "{'coord': {'lon': -69.36, 'lat': 77.48}, 'weather': [{'id': 804, 'main': 'Clouds', 'description': 'overcast clouds', 'icon': '04n'}], 'base': 'stations', 'main': {'temp': -6.31, 'pressure': 1001.52, 'humidity': 87, 'temp_min': -6.31, 'temp_max': -6.31, 'sea_level': 1001.52, 'grnd_level': 963.07}, 'wind': {'speed': 2.57, 'deg': 86.857}, 'clouds': {'all': 96}, 'dt': 1569373798, 'sys': {'message': 0.0102, 'country': 'GL', 'sunrise': 1569320513, 'sunset': 1569364632}, 'timezone': -10800, 'id': 3831208, 'name': 'Qaanaaq', 'cod': 200}\n",
      "{'coord': {'lon': -94.76, 'lat': 39.95}, 'weather': [{'id': 803, 'main': 'Clouds', 'description': 'broken clouds', 'icon': '04n'}], 'base': 'stations', 'main': {'temp': 22.97, 'pressure': 1007, 'humidity': 78, 'temp_min': 21.67, 'temp_max': 24}, 'visibility': 16093, 'wind': {'speed': 5.1, 'deg': 180}, 'clouds': {'all': 75}, 'dt': 1569374386, 'sys': {'type': 1, 'id': 5924, 'message': 0.0067, 'country': 'US', 'sunrise': 1569326898, 'sunset': 1569370436}, 'timezone': -18000, 'id': 4407665, 'name': 'Kodiak', 'cod': 200}\n",
      "{'coord': {'lon': -52.33, 'lat': 4.94}, 'weather': [{'id': 800, 'main': 'Clear', 'description': 'clear sky', 'icon': '01n'}], 'base': 'stations', 'main': {'temp': 25, 'pressure': 1014, 'humidity': 94, 'temp_min': 25, 'temp_max': 25}, 'visibility': 10000, 'wind': {'speed': 2.49, 'deg': 62.672}, 'clouds': {'all': 0}, 'dt': 1569374387, 'sys': {'type': 1, 'id': 8669, 'message': 0.0063, 'country': 'GF', 'sunrise': 1569316695, 'sunset': 1569360278}, 'timezone': -10800, 'id': 3382160, 'name': 'Cayenne', 'cod': 200}\n",
      "{'coord': {'lon': -16.33, 'lat': 33.08}, 'weather': [{'id': 802, 'main': 'Clouds', 'description': 'scattered clouds', 'icon': '03n'}], 'base': 'stations', 'main': {'temp': 23.56, 'pressure': 1023, 'humidity': 88, 'temp_min': 23, 'temp_max': 24}, 'visibility': 10000, 'wind': {'speed': 2.6, 'deg': 340}, 'clouds': {'all': 40}, 'dt': 1569374387, 'sys': {'type': 1, 'id': 6902, 'message': 0.0064, 'country': 'PT', 'sunrise': 1569394508, 'sunset': 1569437946}, 'timezone': 3600, 'id': 2270385, 'name': 'Camacha', 'cod': 200}\n",
      "{'coord': {'lon': -28.7, 'lat': 38.52}, 'weather': [{'id': 800, 'main': 'Clear', 'description': 'clear sky', 'icon': '01n'}], 'base': 'stations', 'main': {'temp': 21.39, 'pressure': 1027.03, 'humidity': 66, 'temp_min': 21.39, 'temp_max': 21.39, 'sea_level': 1027.03, 'grnd_level': 1027.09}, 'wind': {'speed': 4.76, 'deg': 288.629}, 'clouds': {'all': 0}, 'dt': 1569374324, 'sys': {'message': 0.0065, 'country': 'PT', 'sunrise': 1569397488, 'sunset': 1569440903}, 'timezone': 0, 'id': 3372707, 'name': 'Ribeira Grande', 'cod': 200}\n"
     ]
    },
    {
     "name": "stdout",
     "output_type": "stream",
     "text": [
      "take a one minute break\n",
      "{'coord': {'lon': -68.31, 'lat': -54.81}, 'weather': [{'id': 803, 'main': 'Clouds', 'description': 'broken clouds', 'icon': '04n'}], 'base': 'stations', 'main': {'temp': 7, 'pressure': 1004, 'humidity': 70, 'temp_min': 7, 'temp_max': 7}, 'visibility': 10000, 'wind': {'speed': 2.1, 'deg': 360}, 'clouds': {'all': 75}, 'dt': 1569374257, 'sys': {'type': 1, 'id': 8303, 'message': 0.0063, 'country': 'AR', 'sunrise': 1569320231, 'sunset': 1569364411}, 'timezone': -10800, 'id': 3833367, 'name': 'Ushuaia', 'cod': 200}\n"
     ]
    }
   ],
   "source": [
    "# Save config information.\n",
    "url = \"http://api.openweathermap.org/data/2.5/weather?\"\n",
    "units = \"metric\"\n",
    "\n",
    "# Build partial query URL\n",
    "query_url = f\"{url}appid={wkey}&units={units}&q=\"\n",
    "\n",
    "# set up lists to hold reponse info\n",
    "latitude = []\n",
    "longitude = []\n",
    "temp = []\n",
    "maxTemp = []\n",
    "humidity = []\n",
    "cloud = []\n",
    "wind = []\n",
    "mycity = []\n",
    "myCount = 0\n",
    "myError = 0\n",
    "\n",
    "#cities = [\"Paris\", \"London\", \"Oslo\", \"Beijing\"]\n",
    "\n",
    "# Loop through the list of cities and perform a request for data on each\n",
    "for city in cities:\n",
    "    try:\n",
    "        response = requests.get(query_url + city).json()\n",
    "\n",
    "        longitude.append(response['coord']['lon'])\n",
    "        latitude.append(response['coord']['lat'])\n",
    "        temp.append(response['main']['temp'])\n",
    "        maxTemp.append(response['main']['temp_max'])\n",
    "        humidity.append(response['main']['humidity'])\n",
    "        wind.append(response['wind']['speed'])\n",
    "        cloud.append(response['clouds']['all'])\n",
    "        mycity.append(city)\n",
    "        myCount = myCount+1\n",
    "        if myCount == 50:\n",
    "            print(\"take a one minute break\")\n",
    "            time.sleep(60)\n",
    "            myCount = 0\n",
    "     \n",
    "    except:\n",
    "        #print(\"City Not found\")\n",
    "        myError = myError+1\n",
    "        pass\n",
    "\n",
    "#print(f\"Number of cities = {myCount} and the number of errors skipped = {myError})"
   ]
  },
  {
   "cell_type": "markdown",
   "metadata": {},
   "source": [
    "### Convert Raw Data to DataFrame\n",
    "* Export the city data into a .csv.\n",
    "* Display the DataFrame"
   ]
  },
  {
   "cell_type": "code",
   "execution_count": null,
   "metadata": {},
   "outputs": [],
   "source": [
    "# create a data frame from cities, lat, and temp\n",
    "weather_dict = {\n",
    "    \"city\": mycity,\n",
    "    \"lat\": latitude,\n",
    "    \"long\": longitude,\n",
    "    \"temp\": temp,\n",
    "    \"max_temp\": maxTemp,\n",
    "    \"humidity\": humidity,\n",
    "    \"wind speed\": wind,\n",
    "    \"clouds\": cloud\n",
    "}\n",
    "weather_data = pd.DataFrame(weather_dict)\n",
    "\n",
    "# print result to file\n",
    "export_csv2 = weather_data.to_csv (output_weather_file, index = None, header=True)\n",
    "\n",
    "#display the data frame\n",
    "weather_data.count()"
   ]
  },
  {
   "cell_type": "code",
   "execution_count": null,
   "metadata": {},
   "outputs": [],
   "source": [
    "weather_data"
   ]
  },
  {
   "cell_type": "markdown",
   "metadata": {},
   "source": [
    "### Plotting the Data\n",
    "* Use proper labeling of the plots using plot titles (including date of analysis) and axes labels.\n",
    "* Save the plotted figures as .pngs."
   ]
  },
  {
   "cell_type": "markdown",
   "metadata": {},
   "source": [
    "#### Latitude vs. Temperature Plot"
   ]
  },
  {
   "cell_type": "code",
   "execution_count": null,
   "metadata": {
    "scrolled": true
   },
   "outputs": [],
   "source": [
    "#scatter plot\n",
    "plt.ylabel(\"Temperature (F)\")\n",
    "plt.xlabel(\"Latitude\")\n",
    "plt.title(\"Latitude vs. Temperature\")\n",
    "\n",
    "plt.scatter(weather_data[\"lat\"],weather_data[\"temp\"],color=\"blue\",marker=\"o\")\n",
    "plt.grid()\n",
    "\n",
    "plt.savefig('figure_1_Latitude_vs_Temperature.pdf', dpi=300)  \n",
    "plt.show()"
   ]
  },
  {
   "cell_type": "markdown",
   "metadata": {},
   "source": [
    "#### Latitude vs. Humidity Plot"
   ]
  },
  {
   "cell_type": "code",
   "execution_count": null,
   "metadata": {},
   "outputs": [],
   "source": [
    "#scatter plot\n",
    "plt.ylabel(\"Humidity (%)\")\n",
    "plt.xlabel(\"Latitude\")\n",
    "plt.title(\"Latitude vs. Humidity\")\n",
    "\n",
    "plt.scatter(weather_data[\"lat\"],weather_data[\"humidity\"],color=\"blue\",marker=\"o\")\n",
    "plt.grid()\n",
    "\n",
    "plt.savefig('figure_2_Latitude_vs_Humidity.pdf', dpi=300)  \n",
    "plt.show()"
   ]
  },
  {
   "cell_type": "markdown",
   "metadata": {},
   "source": [
    "#### Latitude vs. Cloudiness Plot"
   ]
  },
  {
   "cell_type": "code",
   "execution_count": null,
   "metadata": {},
   "outputs": [],
   "source": [
    "#scatter plot\n",
    "plt.ylabel(\"Cloudiness (%)\")\n",
    "plt.xlabel(\"Latitude\")\n",
    "plt.title(\"Latitude vs. Cloudiness\")\n",
    "\n",
    "plt.scatter(weather_data[\"lat\"],weather_data[\"clouds\"],color=\"blue\",marker=\"o\")\n",
    "plt.grid()\n",
    "\n",
    "plt.savefig('figure_3_Latitude_vs_Cloudiness.pdf', dpi=300)  \n",
    "plt.show()"
   ]
  },
  {
   "cell_type": "markdown",
   "metadata": {},
   "source": [
    "#### Latitude vs. Wind Speed Plot"
   ]
  },
  {
   "cell_type": "code",
   "execution_count": null,
   "metadata": {},
   "outputs": [],
   "source": [
    "#scatter plot\n",
    "plt.ylabel(\"Wind Speed (mph)\")\n",
    "plt.xlabel(\"Latitude\")\n",
    "plt.title(\"Latitude vs. Wind Speed\")\n",
    "\n",
    "plt.scatter(weather_data[\"lat\"],weather_data[\"wind speed\"],color=\"blue\",marker=\"o\")\n",
    "plt.grid()\n",
    "\n",
    "plt.savefig('figure_4_Latitude_vs_WindSpeed.pdf', dpi=300)  \n",
    "plt.show()\n",
    "\n"
   ]
  },
  {
   "cell_type": "markdown",
   "metadata": {},
   "source": [
    "## Linear Regression"
   ]
  },
  {
   "cell_type": "code",
   "execution_count": null,
   "metadata": {},
   "outputs": [],
   "source": [
    "# OPTIONAL: Create a function to create Linear Regression plots\n",
    "* Northern Hemisphere - Temperature (F) vs. Latitude\n",
    "* Southern Hemisphere - Temperature (F) vs. Latitude\n",
    "* Northern Hemisphere - Humidity (%) vs. Latitude\n",
    "* Southern Hemisphere - Humidity (%) vs. Latitude\n",
    "* Northern Hemisphere - Cloudiness (%) vs. Latitude\n",
    "* Southern Hemisphere - Cloudiness (%) vs. Latitude\n",
    "* Northern Hemisphere - Wind Speed (mph) vs. Latitude\n",
    "* Southern Hemisphere - Wind Speed (mph) vs. Latitude\n",
    "\n"
   ]
  },
  {
   "cell_type": "code",
   "execution_count": null,
   "metadata": {},
   "outputs": [],
   "source": [
    "# Create Northern and Southern Hemisphere DataFrames\n",
    "northHemisphere_dict = {\n",
    "    \"city\": weather_data.loc[weather_data[\"lat\"]>0][\"city\"],\n",
    "    \"lat\": weather_data.loc[weather_data[\"lat\"]>0][\"lat\"],\n",
    "    \"max_temp\": weather_data.loc[weather_data[\"lat\"]>0][\"max_temp\"],\n",
    "    \"humidity\": weather_data.loc[weather_data[\"lat\"]>0][\"humidity\"],\n",
    "    \"wind speed\": weather_data.loc[weather_data[\"lat\"]>0][\"wind speed\"],\n",
    "    \"clouds\": weather_data.loc[weather_data[\"lat\"]>0][\"clouds\"]\n",
    "}\n",
    "northHemisphere_data = pd.DataFrame(northHemisphere_dict)"
   ]
  },
  {
   "cell_type": "code",
   "execution_count": null,
   "metadata": {},
   "outputs": [],
   "source": [
    "southHemisphere_dict = {\n",
    "    \"city\": weather_data.loc[weather_data[\"lat\"]<0][\"city\"],\n",
    "    \"lat\": weather_data.loc[weather_data[\"lat\"]<0][\"lat\"],\n",
    "    \"max_temp\": weather_data.loc[weather_data[\"lat\"]<0][\"max_temp\"],\n",
    "    \"humidity\": weather_data.loc[weather_data[\"lat\"]<0][\"humidity\"],\n",
    "    \"wind speed\": weather_data.loc[weather_data[\"lat\"]<0][\"wind speed\"],\n",
    "    \"clouds\": weather_data.loc[weather_data[\"lat\"]<0][\"clouds\"]\n",
    "}\n",
    "southHemisphere_data = pd.DataFrame(southHemisphere_dict)"
   ]
  },
  {
   "cell_type": "code",
   "execution_count": null,
   "metadata": {},
   "outputs": [],
   "source": [
    "x_values = weather_data.loc[weather_data[\"lat\"]>0][\"temp\"]\n",
    "y_values = weather_data.loc[weather_data[\"lat\"]>0][\"lat\"]\n",
    "(slope, intercept, rvalue, pvalue, stderr) = linregress(x_values, y_values)\n",
    "regress_values = x_values * slope + intercept\n",
    "line_eq = \"y = \" + str(round(slope,2)) + \"x + \" + str(round(intercept,2))\n",
    "plt.scatter(x_values,y_values)\n",
    "plt.plot(x_values,regress_values,\"r-\")\n",
    "plt.annotate(line_eq,(6,10),fontsize=15,color=\"red\")\n",
    "plt.xlabel('Temperature')\n",
    "plt.ylabel('Latitude')\n",
    "plt.ylabel(\"Wind Speed\")\n",
    "plt.xlabel(\"Latitude\")\n",
    "plt.title(\"Latitude vs. Wind Speed\")\n",
    "plt.show()"
   ]
  },
  {
   "cell_type": "markdown",
   "metadata": {},
   "source": [
    "####  Northern Hemisphere - Max Temp vs. Latitude Linear Regression"
   ]
  },
  {
   "cell_type": "code",
   "execution_count": 7,
   "metadata": {},
   "outputs": [
    {
     "ename": "NameError",
     "evalue": "name 'northHemisphere_data' is not defined",
     "output_type": "error",
     "traceback": [
      "\u001b[0;31m---------------------------------------------------------------------------\u001b[0m",
      "\u001b[0;31mNameError\u001b[0m                                 Traceback (most recent call last)",
      "\u001b[0;32m<ipython-input-7-9c6c148d89d8>\u001b[0m in \u001b[0;36m<module>\u001b[0;34m\u001b[0m\n\u001b[0;32m----> 1\u001b[0;31m \u001b[0mx_values\u001b[0m \u001b[0;34m=\u001b[0m \u001b[0mnorthHemisphere_data\u001b[0m\u001b[0;34m[\u001b[0m\u001b[0;34m\"maxtemp\"\u001b[0m\u001b[0;34m]\u001b[0m\u001b[0;34m\u001b[0m\u001b[0;34m\u001b[0m\u001b[0m\n\u001b[0m\u001b[1;32m      2\u001b[0m \u001b[0my_values\u001b[0m \u001b[0;34m=\u001b[0m \u001b[0mnorthHemisphere_data\u001b[0m\u001b[0;34m[\u001b[0m\u001b[0;34m\"lat\"\u001b[0m\u001b[0;34m]\u001b[0m\u001b[0;34m\u001b[0m\u001b[0;34m\u001b[0m\u001b[0m\n\u001b[1;32m      3\u001b[0m \u001b[0;34m(\u001b[0m\u001b[0mslope\u001b[0m\u001b[0;34m,\u001b[0m \u001b[0mintercept\u001b[0m\u001b[0;34m,\u001b[0m \u001b[0mrvalue\u001b[0m\u001b[0;34m,\u001b[0m \u001b[0mpvalue\u001b[0m\u001b[0;34m,\u001b[0m \u001b[0mstderr\u001b[0m\u001b[0;34m)\u001b[0m \u001b[0;34m=\u001b[0m \u001b[0mlinregress\u001b[0m\u001b[0;34m(\u001b[0m\u001b[0mx_values\u001b[0m\u001b[0;34m,\u001b[0m \u001b[0my_values\u001b[0m\u001b[0;34m)\u001b[0m\u001b[0;34m\u001b[0m\u001b[0;34m\u001b[0m\u001b[0m\n\u001b[1;32m      4\u001b[0m \u001b[0mregress_values\u001b[0m \u001b[0;34m=\u001b[0m \u001b[0mx_values\u001b[0m \u001b[0;34m*\u001b[0m \u001b[0mslope\u001b[0m \u001b[0;34m+\u001b[0m \u001b[0mintercept\u001b[0m\u001b[0;34m\u001b[0m\u001b[0;34m\u001b[0m\u001b[0m\n\u001b[1;32m      5\u001b[0m \u001b[0mline_eq\u001b[0m \u001b[0;34m=\u001b[0m \u001b[0;34m\"y = \"\u001b[0m \u001b[0;34m+\u001b[0m \u001b[0mstr\u001b[0m\u001b[0;34m(\u001b[0m\u001b[0mround\u001b[0m\u001b[0;34m(\u001b[0m\u001b[0mslope\u001b[0m\u001b[0;34m,\u001b[0m\u001b[0;36m2\u001b[0m\u001b[0;34m)\u001b[0m\u001b[0;34m)\u001b[0m \u001b[0;34m+\u001b[0m \u001b[0;34m\"x + \"\u001b[0m \u001b[0;34m+\u001b[0m \u001b[0mstr\u001b[0m\u001b[0;34m(\u001b[0m\u001b[0mround\u001b[0m\u001b[0;34m(\u001b[0m\u001b[0mintercept\u001b[0m\u001b[0;34m,\u001b[0m\u001b[0;36m2\u001b[0m\u001b[0;34m)\u001b[0m\u001b[0;34m)\u001b[0m\u001b[0;34m\u001b[0m\u001b[0;34m\u001b[0m\u001b[0m\n",
      "\u001b[0;31mNameError\u001b[0m: name 'northHemisphere_data' is not defined"
     ]
    }
   ],
   "source": [
    "x_values = northHemisphere_data[\"max_temp\"]\n",
    "y_values = northHemisphere_data[\"lat\"]\n",
    "(slope, intercept, rvalue, pvalue, stderr) = linregress(x_values, y_values)\n",
    "regress_values = x_values * slope + intercept\n",
    "line_eq = \"y = \" + str(round(slope,2)) + \"x + \" + str(round(intercept,2))\n",
    "plt.scatter(x_values,y_values)\n",
    "plt.plot(x_values,regress_values,\"r-\")\n",
    "plt.annotate(line_eq,(6,10),fontsize=15,color=\"red\")\n",
    "plt.xlabel('Max Temperature (F)')\n",
    "plt.ylabel('Latitude')\n",
    "plt.title(\"Northern Hemisphere - Max Temp (F) vs. Latitude Linear Regression\")\n",
    "plt.show()"
   ]
  },
  {
   "cell_type": "markdown",
   "metadata": {},
   "source": [
    "####  Southern Hemisphere - Max Temp vs. Latitude Linear Regression"
   ]
  },
  {
   "cell_type": "code",
   "execution_count": null,
   "metadata": {},
   "outputs": [],
   "source": [
    "x_values = southHemisphere_data[\"max_temp\"]\n",
    "y_values = southHemisphere_data[\"lat\"]\n",
    "(slope, intercept, rvalue, pvalue, stderr) = linregress(x_values, y_values)\n",
    "regress_values = x_values * slope + intercept\n",
    "line_eq = \"y = \" + str(round(slope,2)) + \"x + \" + str(round(intercept,2))\n",
    "plt.scatter(x_values,y_values)\n",
    "plt.plot(x_values,regress_values,\"r-\")\n",
    "plt.annotate(line_eq,(6,10),fontsize=15,color=\"red\")\n",
    "plt.xlabel('Max Temperature (F)')\n",
    "plt.ylabel('Latitude')\n",
    "plt.title(\"Southern Hemisphere - Max Temp (F) vs. Latitude Linear Regression\")\n",
    "plt.show()"
   ]
  },
  {
   "cell_type": "markdown",
   "metadata": {},
   "source": [
    "####  Northern Hemisphere - Humidity (%) vs. Latitude Linear Regression"
   ]
  },
  {
   "cell_type": "code",
   "execution_count": null,
   "metadata": {},
   "outputs": [],
   "source": [
    "x_values = northHemisphere_data[\"humidity\"]\n",
    "y_values = northHemisphere_data[\"lat\"]\n",
    "(slope, intercept, rvalue, pvalue, stderr) = linregress(x_values, y_values)\n",
    "regress_values = x_values * slope + intercept\n",
    "line_eq = \"y = \" + str(round(slope,2)) + \"x + \" + str(round(intercept,2))\n",
    "plt.scatter(x_values,y_values)\n",
    "plt.plot(x_values,regress_values,\"r-\")\n",
    "plt.annotate(line_eq,(6,10),fontsize=15,color=\"red\")\n",
    "plt.xlabel('Humidity (%)')\n",
    "plt.ylabel('Latitude')\n",
    "plt.title(\"Northern Hemisphere - Humidity (%) vs. Latitude Linear Regression\")\n",
    "plt.show()"
   ]
  },
  {
   "cell_type": "markdown",
   "metadata": {},
   "source": [
    "####  Southern Hemisphere - Humidity (%) vs. Latitude Linear Regression"
   ]
  },
  {
   "cell_type": "code",
   "execution_count": null,
   "metadata": {},
   "outputs": [],
   "source": [
    "x_values = southHemisphere_data[\"humidity\"]\n",
    "y_values = southHemisphere_data[\"lat\"]\n",
    "(slope, intercept, rvalue, pvalue, stderr) = linregress(x_values, y_values)\n",
    "regress_values = x_values * slope + intercept\n",
    "line_eq = \"y = \" + str(round(slope,2)) + \"x + \" + str(round(intercept,2))\n",
    "plt.scatter(x_values,y_values)\n",
    "plt.plot(x_values,regress_values,\"r-\")\n",
    "plt.annotate(line_eq,(6,10),fontsize=15,color=\"red\")\n",
    "plt.xlabel('Humidity (%)')\n",
    "plt.ylabel('Latitude')\n",
    "plt.title(\"Southern Hemisphere - Humidity (%) vs. Latitude Linear Regression\")\n",
    "plt.show()"
   ]
  },
  {
   "cell_type": "markdown",
   "metadata": {},
   "source": [
    "####  Northern Hemisphere - Cloudiness (%) vs. Latitude Linear Regression"
   ]
  },
  {
   "cell_type": "code",
   "execution_count": null,
   "metadata": {},
   "outputs": [],
   "source": [
    "x_values = northHemisphere_data[\"clouds\"]\n",
    "y_values = northHemisphere_data[\"lat\"]\n",
    "(slope, intercept, rvalue, pvalue, stderr) = linregress(x_values, y_values)\n",
    "regress_values = x_values * slope + intercept\n",
    "line_eq = \"y = \" + str(round(slope,2)) + \"x + \" + str(round(intercept,2))\n",
    "plt.scatter(x_values,y_values)\n",
    "plt.plot(x_values,regress_values,\"r-\")\n",
    "plt.annotate(line_eq,(6,10),fontsize=15,color=\"red\")\n",
    "plt.xlabel('Cloudiness (%)')\n",
    "plt.ylabel('Latitude')\n",
    "plt.title(\"Northern Hemisphere - Cloudiness (%) vs. Latitude Linear Regression\")\n",
    "plt.show()"
   ]
  },
  {
   "cell_type": "markdown",
   "metadata": {},
   "source": [
    "####  Southern Hemisphere - Cloudiness (%) vs. Latitude Linear Regression"
   ]
  },
  {
   "cell_type": "code",
   "execution_count": null,
   "metadata": {},
   "outputs": [],
   "source": [
    "x_values = southHemisphere_data[\"clouds\"]\n",
    "y_values = southHemisphere_data[\"lat\"]\n",
    "(slope, intercept, rvalue, pvalue, stderr) = linregress(x_values, y_values)\n",
    "regress_values = x_values * slope + intercept\n",
    "line_eq = \"y = \" + str(round(slope,2)) + \"x + \" + str(round(intercept,2))\n",
    "plt.scatter(x_values,y_values)\n",
    "plt.plot(x_values,regress_values,\"r-\")\n",
    "plt.annotate(line_eq,(6,10),fontsize=15,color=\"red\")\n",
    "plt.xlabel('Cloudiness (%)')\n",
    "plt.ylabel('Latitude')\n",
    "plt.title(\"Southern Hemisphere - Cloudiness (%) vs. Latitude Linear Regression\")\n",
    "plt.show()"
   ]
  },
  {
   "cell_type": "markdown",
   "metadata": {},
   "source": [
    "####  Northern Hemisphere - Wind Speed (mph) vs. Latitude Linear Regression"
   ]
  },
  {
   "cell_type": "code",
   "execution_count": null,
   "metadata": {},
   "outputs": [],
   "source": [
    "x_values = northHemisphere_data[\"wind\"]\n",
    "y_values = northHemisphere_data[\"lat\"]\n",
    "(slope, intercept, rvalue, pvalue, stderr) = linregress(x_values, y_values)\n",
    "regress_values = x_values * slope + intercept\n",
    "line_eq = \"y = \" + str(round(slope,2)) + \"x + \" + str(round(intercept,2))\n",
    "plt.scatter(x_values,y_values)\n",
    "plt.plot(x_values,regress_values,\"r-\")\n",
    "plt.annotate(line_eq,(6,10),fontsize=15,color=\"red\")\n",
    "plt.xlabel('Wind Speed (mph)')\n",
    "plt.ylabel('Latitude')\n",
    "plt.title(\"Northern Hemisphere - Wind Speed (mph) vs. Latitude Linear Regression\")\n",
    "plt.show()"
   ]
  },
  {
   "cell_type": "markdown",
   "metadata": {},
   "source": [
    "####  Southern Hemisphere - Wind Speed (mph) vs. Latitude Linear Regression"
   ]
  },
  {
   "cell_type": "code",
   "execution_count": null,
   "metadata": {},
   "outputs": [],
   "source": [
    "x_values = southHemisphere_data[\"wind\"]\n",
    "y_values = southHemisphere_data[\"lat\"]\n",
    "(slope, intercept, rvalue, pvalue, stderr) = linregress(x_values, y_values)\n",
    "regress_values = x_values * slope + intercept\n",
    "line_eq = \"y = \" + str(round(slope,2)) + \"x + \" + str(round(intercept,2))\n",
    "plt.scatter(x_values,y_values)\n",
    "plt.plot(x_values,regress_values,\"r-\")\n",
    "plt.annotate(line_eq,(6,10),fontsize=15,color=\"red\")\n",
    "plt.xlabel('Wind Speed (mph)')\n",
    "plt.ylabel('Latitude')\n",
    "plt.title(\"Southern Hemisphere - Wind Speed (mph) vs. Latitude Linear Regression\")\n",
    "plt.show()"
   ]
  },
  {
   "cell_type": "code",
   "execution_count": null,
   "metadata": {},
   "outputs": [],
   "source": []
  }
 ],
 "metadata": {
  "anaconda-cloud": {},
  "kernel_info": {
   "name": "python3"
  },
  "kernelspec": {
   "display_name": "Python 3",
   "language": "python",
   "name": "python3"
  },
  "language_info": {
   "codemirror_mode": {
    "name": "ipython",
    "version": 3
   },
   "file_extension": ".py",
   "mimetype": "text/x-python",
   "name": "python",
   "nbconvert_exporter": "python",
   "pygments_lexer": "ipython3",
   "version": "3.7.3"
  },
  "latex_envs": {
   "LaTeX_envs_menu_present": true,
   "autoclose": false,
   "autocomplete": true,
   "bibliofile": "biblio.bib",
   "cite_by": "apalike",
   "current_citInitial": 1,
   "eqLabelWithNumbers": true,
   "eqNumInitial": 1,
   "hotkeys": {
    "equation": "Ctrl-E",
    "itemize": "Ctrl-I"
   },
   "labels_anchors": false,
   "latex_user_defs": false,
   "report_style_numbering": false,
   "user_envs_cfg": false
  },
  "nteract": {
   "version": "0.12.3"
  }
 },
 "nbformat": 4,
 "nbformat_minor": 2
}
